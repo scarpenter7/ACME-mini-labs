{
 "cells": [
  {
   "cell_type": "code",
   "execution_count": 16,
   "id": "exposed-translator",
   "metadata": {},
   "outputs": [],
   "source": [
    "import numpy as np\n",
    "from xgboost import XGBClassifier\n",
    "\n",
    "from keras.datasets import fashion_mnist\n"
   ]
  },
  {
   "cell_type": "code",
   "execution_count": 21,
   "id": "hazardous-layer",
   "metadata": {},
   "outputs": [
    {
     "name": "stdout",
     "output_type": "stream",
     "text": [
      "(60000, 784)\n",
      "(60000,)\n",
      "(10000,)\n"
     ]
    }
   ],
   "source": [
    "(X_train, y_train), (X_test, y_test) = fashion_mnist.load_data()\n",
    "input_dim = 784 #28*28\n",
    "X_train = X_train.reshape(60000, input_dim)\n",
    "X_test = X_test.reshape(10000, input_dim)\n",
    "print(X_train.shape)\n",
    "print(y_train.shape)\n",
    "block = np.hstack((X_train, np.array([y_train]).T))\n",
    "np.random.shuffle(block)\n",
    "\n",
    "sample_size = 1000\n",
    "\n",
    "X_train = block[:sample_size, :-1]\n",
    "y_train = block[:sample_size, -1]\n",
    "\n",
    "print(y_train_sample.shape)\n",
    "\n",
    "X_train = X_train/255\n",
    "X_test = X_test/255"
   ]
  },
  {
   "cell_type": "code",
   "execution_count": 22,
   "id": "quarterly-moment",
   "metadata": {},
   "outputs": [],
   "source": [
    "dtrain = xgb.DMatrix(X_train, label=y_train)"
   ]
  },
  {
   "cell_type": "code",
   "execution_count": 25,
   "id": "enabling-annex",
   "metadata": {},
   "outputs": [
    {
     "name": "stdout",
     "output_type": "stream",
     "text": [
      "[16:41:44] WARNING: C:/Users/Administrator/workspace/xgboost-win64_release_1.5.1/src/learner.cc:1115: Starting in XGBoost 1.3.0, the default evaluation metric used with the objective 'multi:softprob' was changed from 'merror' to 'mlogloss'. Explicitly set eval_metric if you'd like to restore the old behavior.\n",
      "0.7963\n"
     ]
    }
   ],
   "source": [
    "\"\"\"param = {'max_depth': 2, 'eta': 1, 'objective': 'multi:softmax', 'num_class': 10}\n",
    "param['nthread'] = 4\n",
    "#param['eval_metric'] = 'auc'\n",
    "\n",
    "dtest = xgb.DMatrix(X_test)\n",
    "evallist = [(dtest, 'eval'), (dtrain, 'train')]\n",
    "num_round = 10\n",
    "\"\"\"\n",
    "bst = XGBClassifier(objective='multi:softmax').fit(X_train, y_train)\n",
    "\n",
    "\n",
    "ypred = bst.predict(X_test)\n",
    "accuracy = sum([1 for i, p in enumerate(ypred) if p == y_test[i]])/len(ypred)\n",
    "print(accuracy)"
   ]
  },
  {
   "cell_type": "code",
   "execution_count": null,
   "id": "agricultural-masters",
   "metadata": {},
   "outputs": [],
   "source": []
  }
 ],
 "metadata": {
  "kernelspec": {
   "display_name": "Python 3",
   "language": "python",
   "name": "python3"
  },
  "language_info": {
   "codemirror_mode": {
    "name": "ipython",
    "version": 3
   },
   "file_extension": ".py",
   "mimetype": "text/x-python",
   "name": "python",
   "nbconvert_exporter": "python",
   "pygments_lexer": "ipython3",
   "version": "3.8.5"
  }
 },
 "nbformat": 4,
 "nbformat_minor": 5
}
