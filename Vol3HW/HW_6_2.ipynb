{
 "cells": [
  {
   "cell_type": "code",
   "execution_count": 2,
   "id": "listed-madagascar",
   "metadata": {},
   "outputs": [],
   "source": [
    "import numpy as np"
   ]
  },
  {
   "cell_type": "code",
   "execution_count": 76,
   "id": "impaired-tumor",
   "metadata": {},
   "outputs": [],
   "source": [
    "class GNBC():\n",
    "    def __init__(self, min_var=0.1):\n",
    "        self.min_var = min_var\n",
    "    \n",
    "    def get_classes(self, y):\n",
    "        class_dict = {}\n",
    "        for num in y:\n",
    "            if num not in class_dict.keys():\n",
    "                class_dict.update({num:1})\n",
    "            else:\n",
    "                class_dict[num] += 1\n",
    "        class_counts = [(num, class_dict[num]) for num in class_dict.keys()]\n",
    "        class_counts.sort(key=lambda y: y[0])\n",
    "        counts = [t[1] for t in class_counts]\n",
    "    \n",
    "        return len(class_dict.keys()), np.array(counts) #return num_classes, class_counts\n",
    "    \n",
    "    def compute_sigmas(self, X, y):\n",
    "        rows = []\n",
    "        for c in range(self.n_classes):\n",
    "            Nc = self.class_counts[c]\n",
    "            row = np.array([np.var(X[:, i][y == c]) + self.min_var for i in range(self.n_features)])\n",
    "            rows.append(row)\n",
    "\n",
    "        res = np.stack(rows)\n",
    "        return res\n",
    "            \n",
    "    def compute_mus(self, X, y):\n",
    "        rows = []\n",
    "        for c in range(self.n_classes):\n",
    "            Nc = self.class_counts[c]\n",
    "            row = np.array([np.mean(X[:, i][y == c]) for i in range(self.n_features)])\n",
    "            rows.append(row)\n",
    "\n",
    "        res = np.stack(rows)\n",
    "        return res\n",
    "        \n",
    "    \n",
    "    def fit(self, X, y, output_classes):\n",
    "        # X is N by d np array\n",
    "        # y is N array\n",
    "        N, d = X.shape\n",
    "        self.X = X\n",
    "        self.n_features = d\n",
    "        self.n_classes, self.class_counts = self.get_classes(y)\n",
    "        self.pis = self.class_counts / N\n",
    "        self.classes = output_classes\n",
    "        self.mus = self.compute_mus(X, y)\n",
    "        self.sigmas = self.compute_sigmas(X, y)\n",
    "        self.predict = np.vectorize(self.predict1)\n",
    "        return self\n",
    "    \n",
    "    def predict1(self, x): # vectorized\n",
    "        probs = []\n",
    "        # x is an attribute, j, is the index of that column, c is the class index\n",
    "        normal_prob = lambda x, j, c: (1/np.sqrt(2*np.pi*self.sigmas[c, j]))*\\\n",
    "                                        np.exp(-(x-self.mus[c, j])**2/(2*self.sigmas[c, j]))\n",
    "        for c in range(self.n_classes):\n",
    "            prob = np.prod([normal_prob(x[j], j, c) for j in range(self.n_features)]) * self.pis[c]\n",
    "            probs.append(prob)\n",
    "        \n",
    "        prediction = np.argmax(np.array(probs))\n",
    "        return prediction    \n",
    "    \n",
    "    def score(self, X_test, y_test):\n",
    "        guesses = [self.predict1(X_test[i, :]) for i in range(X_test.shape[0])]\n",
    "        N = len(guesses)\n",
    "        return sum([guesses[i] == y_test[i] for i in range(N)]) / N"
   ]
  },
  {
   "cell_type": "code",
   "execution_count": 78,
   "id": "several-heater",
   "metadata": {},
   "outputs": [
    {
     "name": "stdout",
     "output_type": "stream",
     "text": [
      "1.0\n"
     ]
    }
   ],
   "source": [
    "from sklearn.datasets import load_iris\n",
    "from sklearn.model_selection import train_test_split\n",
    "\n",
    "X, y = load_iris(return_X_y=True, as_frame=False)\n",
    "\n",
    "X_train, X_test, y_train, y_test = train_test_split(X, y, test_size=0.3, random_state=42)\n",
    "model = GNBC().fit(X_train, y_train, ['setosa', 'versicolor', 'virginica'])\n",
    "accuracy = model.score(X_test, y_test)\n",
    "print(accuracy)"
   ]
  },
  {
   "cell_type": "code",
   "execution_count": 81,
   "id": "norwegian-given",
   "metadata": {},
   "outputs": [
    {
     "name": "stdout",
     "output_type": "stream",
     "text": [
      "[ True  True  True  True  True  True  True  True  True  True  True  True\n",
      "  True  True  True  True  True  True  True  True  True  True  True  True\n",
      "  True  True  True  True  True  True  True  True  True  True  True  True\n",
      "  True  True  True  True  True  True  True  True  True  True  True  True\n",
      "  True  True False False False False False False False False False False\n",
      " False False False False False False False False False False False False\n",
      " False False False False False False False False False False False False\n",
      " False False False False False False False False False False False False\n",
      " False False False False False False False False False False False False\n",
      " False False False False False False False False False False False False\n",
      " False False False False False False False False False False False False\n",
      " False False False False False False False False False False False False\n",
      " False False False False False False]\n",
      "1.0\n",
      "0.005996227264404297\n"
     ]
    }
   ],
   "source": [
    "import time\n",
    "X, y = load_iris(return_X_y=True, as_frame=False)\n",
    "\n",
    "y = y == 0\n",
    "\n",
    "print(y)\n",
    "\n",
    "start = time.time()\n",
    "X_train, X_test, y_train, y_test = train_test_split(X, y, test_size=0.3, random_state=42)\n",
    "model = GNBC().fit(X_train, y_train, ['setosa', 'versicolor', 'virginica'])\n",
    "accuracy = model.score(X_test, y_test)\n",
    "print(accuracy)\n",
    "end = time.time()\n",
    "print(end - start)"
   ]
  },
  {
   "cell_type": "code",
   "execution_count": 85,
   "id": "hazardous-republic",
   "metadata": {},
   "outputs": [
    {
     "name": "stdout",
     "output_type": "stream",
     "text": [
      "[ True  True  True  True  True  True  True  True  True  True  True  True\n",
      "  True  True  True  True  True  True  True  True  True  True  True  True\n",
      "  True  True  True  True  True  True  True  True  True  True  True  True\n",
      "  True  True  True  True  True  True  True  True  True  True  True  True\n",
      "  True  True False False False False False False False False False False\n",
      " False False False False False False False False False False False False\n",
      " False False False False False False False False False False False False\n",
      " False False False False False False False False False False False False\n",
      " False False False False False False False False False False False False\n",
      " False False False False False False False False False False False False\n",
      " False False False False False False False False False False False False\n",
      " False False False False False False False False False False False False\n",
      " False False False False False False]\n",
      "1.0\n",
      "0.014980077743530273\n"
     ]
    }
   ],
   "source": [
    "from sklearn.naive_bayes import GaussianNB\n",
    "\n",
    "X, y = load_iris(return_X_y=True, as_frame=False)\n",
    "\n",
    "y = y == 0\n",
    "\n",
    "print(y)\n",
    "\n",
    "start = time.time()\n",
    "X_train, X_test, y_train, y_test = train_test_split(X, y, test_size=0.3, random_state=42)\n",
    "model = GaussianNB().fit(X_train, y_train)\n",
    "accuracy = model.score(X_test, y_test)\n",
    "print(accuracy)\n",
    "end = time.time()\n",
    "print(end - start)"
   ]
  },
  {
   "cell_type": "code",
   "execution_count": 88,
   "id": "proved-philip",
   "metadata": {},
   "outputs": [
    {
     "name": "stdout",
     "output_type": "stream",
     "text": [
      "[0 1 2 ... 8 9 8]\n",
      "[False False False ... False False False]\n",
      "0.9851851851851852\n",
      "0.35398173332214355\n"
     ]
    }
   ],
   "source": [
    "from sklearn.datasets import load_digits\n",
    "X, y = load_digits(return_X_y=True, as_frame=False)\n",
    "\n",
    "print(y)\n",
    "y = y == 4\n",
    "\n",
    "print(y)\n",
    "\n",
    "start = time.time()\n",
    "X_train, X_test, y_train, y_test = train_test_split(X, y, test_size=0.3, random_state=42)\n",
    "model = GNBC().fit(X_train, y_train, [])\n",
    "accuracy = model.score(X_test, y_test)\n",
    "print(accuracy)\n",
    "end = time.time()\n",
    "print(end - start)"
   ]
  },
  {
   "cell_type": "code",
   "execution_count": 89,
   "id": "christian-murder",
   "metadata": {},
   "outputs": [
    {
     "name": "stdout",
     "output_type": "stream",
     "text": [
      "[False False False ... False False False]\n",
      "0.8203703703703704\n",
      "0.0030028820037841797\n"
     ]
    }
   ],
   "source": [
    "from sklearn.naive_bayes import GaussianNB\n",
    "\n",
    "X, y = load_digits(return_X_y=True, as_frame=False)\n",
    "\n",
    "y = y == 4\n",
    "\n",
    "print(y)\n",
    "\n",
    "start = time.time()\n",
    "X_train, X_test, y_train, y_test = train_test_split(X, y, test_size=0.3, random_state=42)\n",
    "model = GaussianNB().fit(X_train, y_train)\n",
    "accuracy = model.score(X_test, y_test)\n",
    "print(accuracy)\n",
    "end = time.time()\n",
    "print(end - start)"
   ]
  },
  {
   "cell_type": "code",
   "execution_count": null,
   "id": "numeric-documentary",
   "metadata": {},
   "outputs": [],
   "source": []
  }
 ],
 "metadata": {
  "kernelspec": {
   "display_name": "Python 3",
   "language": "python",
   "name": "python3"
  },
  "language_info": {
   "codemirror_mode": {
    "name": "ipython",
    "version": 3
   },
   "file_extension": ".py",
   "mimetype": "text/x-python",
   "name": "python",
   "nbconvert_exporter": "python",
   "pygments_lexer": "ipython3",
   "version": "3.8.5"
  }
 },
 "nbformat": 4,
 "nbformat_minor": 5
}
