{
 "cells": [
  {
   "cell_type": "code",
   "execution_count": 13,
   "id": "athletic-classics",
   "metadata": {},
   "outputs": [],
   "source": [
    "import numpy as np\n",
    "from scipy import stats\n",
    "from scipy.stats import chisquare\n",
    "import math"
   ]
  },
  {
   "cell_type": "code",
   "execution_count": 3,
   "id": "hungry-stability",
   "metadata": {},
   "outputs": [
    {
     "name": "stdout",
     "output_type": "stream",
     "text": [
      "22.21428571428571\n"
     ]
    }
   ],
   "source": [
    "data = [9,13,24,16,21,18,14,15]\n",
    "sample_var = (1/7)*sum([(d - 16.25)**2 for d in data])\n",
    "print(sample_var)"
   ]
  },
  {
   "cell_type": "code",
   "execution_count": 4,
   "id": "threatened-father",
   "metadata": {},
   "outputs": [
    {
     "name": "stdout",
     "output_type": "stream",
     "text": [
      "4.713203338949605\n"
     ]
    }
   ],
   "source": [
    "print(np.sqrt(sample_var))"
   ]
  },
  {
   "cell_type": "code",
   "execution_count": 6,
   "id": "rental-guess",
   "metadata": {},
   "outputs": [
    {
     "data": {
      "text/plain": [
       "Ttest_1sampResult(statistic=-2.250401893367499, pvalue=0.059163033835308895)"
      ]
     },
     "execution_count": 6,
     "metadata": {},
     "output_type": "execute_result"
    }
   ],
   "source": [
    "stats.ttest_1samp(data, 20.0)"
   ]
  },
  {
   "cell_type": "code",
   "execution_count": 8,
   "id": "abroad-swiss",
   "metadata": {},
   "outputs": [
    {
     "data": {
      "text/plain": [
       "Ttest_indResult(statistic=-1.8534061896456464, pvalue=0.1048446744178402)"
      ]
     },
     "execution_count": 8,
     "metadata": {},
     "output_type": "execute_result"
    }
   ],
   "source": [
    "data_A = [21,18,9,22,11]\n",
    "data_B = [19,28,21,18,25]\n",
    "stats.ttest_ind(data_A, data_B, equal_var=False)"
   ]
  },
  {
   "cell_type": "code",
   "execution_count": 10,
   "id": "independent-pathology",
   "metadata": {},
   "outputs": [
    {
     "data": {
      "text/plain": [
       "Power_divergenceResult(statistic=8.799999999999999, pvalue=0.117312357923857)"
      ]
     },
     "execution_count": 10,
     "metadata": {},
     "output_type": "execute_result"
    }
   ],
   "source": [
    "chisquare([8,10,15,6,4,7])"
   ]
  },
  {
   "cell_type": "code",
   "execution_count": 11,
   "id": "behavioral-range",
   "metadata": {},
   "outputs": [
    {
     "data": {
      "text/plain": [
       "8.8"
      ]
     },
     "execution_count": 11,
     "metadata": {},
     "output_type": "execute_result"
    }
   ],
   "source": [
    "(6/50)*sum([(d - 50/6)**2 for d in [8,10,15,6,4,7]])"
   ]
  },
  {
   "cell_type": "code",
   "execution_count": 21,
   "id": "civilian-narrow",
   "metadata": {},
   "outputs": [
    {
     "data": {
      "text/plain": [
       "0.007491290079039262"
      ]
     },
     "execution_count": 21,
     "metadata": {},
     "output_type": "execute_result"
    }
   ],
   "source": [
    "sum([(rate**i * np.exp(-rate) / math.factorial(i)) for i in range(51)])"
   ]
  },
  {
   "cell_type": "code",
   "execution_count": null,
   "id": "comprehensive-bobby",
   "metadata": {},
   "outputs": [],
   "source": []
  }
 ],
 "metadata": {
  "kernelspec": {
   "display_name": "Python 3",
   "language": "python",
   "name": "python3"
  },
  "language_info": {
   "codemirror_mode": {
    "name": "ipython",
    "version": 3
   },
   "file_extension": ".py",
   "mimetype": "text/x-python",
   "name": "python",
   "nbconvert_exporter": "python",
   "pygments_lexer": "ipython3",
   "version": "3.8.5"
  }
 },
 "nbformat": 4,
 "nbformat_minor": 5
}
