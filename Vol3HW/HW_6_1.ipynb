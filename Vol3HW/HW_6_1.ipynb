{
 "cells": [
  {
   "cell_type": "code",
   "execution_count": 19,
   "id": "integrated-jimmy",
   "metadata": {},
   "outputs": [],
   "source": [
    "import sklearn as sk\n",
    "from sklearn import tree\n",
    "from sklearn.datasets import fetch_openml\n",
    "from sklearn.datasets import load_digits\n",
    "from sklearn.model_selection import train_test_split\n"
   ]
  },
  {
   "cell_type": "code",
   "execution_count": 114,
   "id": "peripheral-benchmark",
   "metadata": {},
   "outputs": [
    {
     "name": "stdout",
     "output_type": "stream",
     "text": [
      "<class 'sklearn.utils.Bunch'>\n"
     ]
    },
    {
     "data": {
      "text/html": [
       "<div>\n",
       "<style scoped>\n",
       "    .dataframe tbody tr th:only-of-type {\n",
       "        vertical-align: middle;\n",
       "    }\n",
       "\n",
       "    .dataframe tbody tr th {\n",
       "        vertical-align: top;\n",
       "    }\n",
       "\n",
       "    .dataframe thead th {\n",
       "        text-align: right;\n",
       "    }\n",
       "</style>\n",
       "<table border=\"1\" class=\"dataframe\">\n",
       "  <thead>\n",
       "    <tr style=\"text-align: right;\">\n",
       "      <th></th>\n",
       "      <th>pclass</th>\n",
       "      <th>sex</th>\n",
       "      <th>age</th>\n",
       "      <th>sibsp</th>\n",
       "      <th>fare</th>\n",
       "    </tr>\n",
       "  </thead>\n",
       "  <tbody>\n",
       "    <tr>\n",
       "      <th>1304</th>\n",
       "      <td>3.0</td>\n",
       "      <td>0</td>\n",
       "      <td>14.5</td>\n",
       "      <td>1.0</td>\n",
       "      <td>14.4542</td>\n",
       "    </tr>\n",
       "    <tr>\n",
       "      <th>1305</th>\n",
       "      <td>3.0</td>\n",
       "      <td>0</td>\n",
       "      <td>0.0</td>\n",
       "      <td>1.0</td>\n",
       "      <td>14.4542</td>\n",
       "    </tr>\n",
       "    <tr>\n",
       "      <th>1306</th>\n",
       "      <td>3.0</td>\n",
       "      <td>1</td>\n",
       "      <td>26.5</td>\n",
       "      <td>0.0</td>\n",
       "      <td>7.2250</td>\n",
       "    </tr>\n",
       "    <tr>\n",
       "      <th>1307</th>\n",
       "      <td>3.0</td>\n",
       "      <td>1</td>\n",
       "      <td>27.0</td>\n",
       "      <td>0.0</td>\n",
       "      <td>7.2250</td>\n",
       "    </tr>\n",
       "    <tr>\n",
       "      <th>1308</th>\n",
       "      <td>3.0</td>\n",
       "      <td>1</td>\n",
       "      <td>29.0</td>\n",
       "      <td>0.0</td>\n",
       "      <td>7.8750</td>\n",
       "    </tr>\n",
       "  </tbody>\n",
       "</table>\n",
       "</div>"
      ],
      "text/plain": [
       "      pclass  sex   age  sibsp     fare\n",
       "1304     3.0    0  14.5    1.0  14.4542\n",
       "1305     3.0    0   0.0    1.0  14.4542\n",
       "1306     3.0    1  26.5    0.0   7.2250\n",
       "1307     3.0    1  27.0    0.0   7.2250\n",
       "1308     3.0    1  29.0    0.0   7.8750"
      ]
     },
     "execution_count": 114,
     "metadata": {},
     "output_type": "execute_result"
    }
   ],
   "source": [
    "titanic = fetch_openml(\"titanic\", version=1, as_frame=True)\n",
    "print(type(titanic))\n",
    "X = titanic.data\n",
    "X = X.drop(['name', 'embarked', 'cabin', 'ticket', 'body', 'home.dest', 'boat', 'parch'], axis=1)\n",
    "X['sex'] = X.sex.eq('male').mul(1)\n",
    "X['age'] = X['age'].fillna(0)\n",
    "X['sibsp'] = X['sibsp'].fillna(0)\n",
    "X['fare'] = X['fare'].fillna(0)\n",
    "y = titanic.target\n",
    "X.tail()"
   ]
  },
  {
   "cell_type": "code",
   "execution_count": 91,
   "id": "immune-finder",
   "metadata": {},
   "outputs": [],
   "source": [
    "model = tree.DecisionTreeClassifier(max_depth=4).fit(X, y)"
   ]
  },
  {
   "cell_type": "code",
   "execution_count": 96,
   "id": "hired-colorado",
   "metadata": {},
   "outputs": [
    {
     "name": "stdout",
     "output_type": "stream",
     "text": [
      "digraph Tree {\n",
      "node [shape=box] ;\n",
      "0 [label=\"sex <= 0.5\\ngini = 0.472\\nsamples = 1309\\nvalue = [809, 500]\"] ;\n",
      "1 [label=\"pclass <= 2.5\\ngini = 0.397\\nsamples = 466\\nvalue = [127, 339]\"] ;\n",
      "0 -> 1 [labeldistance=2.5, labelangle=45, headlabel=\"True\"] ;\n",
      "2 [label=\"fare <= 26.125\\ngini = 0.127\\nsamples = 250\\nvalue = [17, 233]\"] ;\n",
      "1 -> 2 ;\n",
      "3 [label=\"age <= 56.0\\ngini = 0.258\\nsamples = 79\\nvalue = [12, 67]\"] ;\n",
      "2 -> 3 ;\n",
      "4 [label=\"gini = 0.226\\nsamples = 77\\nvalue = [10, 67]\"] ;\n",
      "3 -> 4 ;\n",
      "5 [label=\"gini = 0.0\\nsamples = 2\\nvalue = [2, 0]\"] ;\n",
      "3 -> 5 ;\n",
      "6 [label=\"fare <= 149.035\\ngini = 0.057\\nsamples = 171\\nvalue = [5, 166]\"] ;\n",
      "2 -> 6 ;\n",
      "7 [label=\"gini = 0.029\\nsamples = 138\\nvalue = [2, 136]\"] ;\n",
      "6 -> 7 ;\n",
      "8 [label=\"gini = 0.165\\nsamples = 33\\nvalue = [3, 30]\"] ;\n",
      "6 -> 8 ;\n",
      "9 [label=\"fare <= 23.35\\ngini = 0.5\\nsamples = 216\\nvalue = [110, 106]\"] ;\n",
      "1 -> 9 ;\n",
      "10 [label=\"age <= 16.5\\ngini = 0.492\\nsamples = 183\\nvalue = [80, 103]\"] ;\n",
      "9 -> 10 ;\n",
      "11 [label=\"gini = 0.447\\nsamples = 83\\nvalue = [28, 55]\"] ;\n",
      "10 -> 11 ;\n",
      "12 [label=\"gini = 0.499\\nsamples = 100\\nvalue = [52, 48]\"] ;\n",
      "10 -> 12 ;\n",
      "13 [label=\"fare <= 32.881\\ngini = 0.165\\nsamples = 33\\nvalue = [30, 3]\"] ;\n",
      "9 -> 13 ;\n",
      "14 [label=\"gini = 0.255\\nsamples = 20\\nvalue = [17, 3]\"] ;\n",
      "13 -> 14 ;\n",
      "15 [label=\"gini = 0.0\\nsamples = 13\\nvalue = [13, 0]\"] ;\n",
      "13 -> 15 ;\n",
      "16 [label=\"pclass <= 1.5\\ngini = 0.309\\nsamples = 843\\nvalue = [682, 161]\"] ;\n",
      "0 -> 16 [labeldistance=2.5, labelangle=-45, headlabel=\"False\"] ;\n",
      "17 [label=\"age <= 54.5\\ngini = 0.449\\nsamples = 179\\nvalue = [118, 61]\"] ;\n",
      "16 -> 17 ;\n",
      "18 [label=\"fare <= 26.144\\ngini = 0.473\\nsamples = 151\\nvalue = [93, 58]\"] ;\n",
      "17 -> 18 ;\n",
      "19 [label=\"gini = 0.278\\nsamples = 18\\nvalue = [15, 3]\"] ;\n",
      "18 -> 19 ;\n",
      "20 [label=\"gini = 0.485\\nsamples = 133\\nvalue = [78, 55]\"] ;\n",
      "18 -> 20 ;\n",
      "21 [label=\"age <= 75.5\\ngini = 0.191\\nsamples = 28\\nvalue = [25, 3]\"] ;\n",
      "17 -> 21 ;\n",
      "22 [label=\"gini = 0.137\\nsamples = 27\\nvalue = [25, 2]\"] ;\n",
      "21 -> 22 ;\n",
      "23 [label=\"gini = 0.0\\nsamples = 1\\nvalue = [0, 1]\"] ;\n",
      "21 -> 23 ;\n",
      "24 [label=\"age <= 32.25\\ngini = 0.256\\nsamples = 664\\nvalue = [564, 100]\"] ;\n",
      "16 -> 24 ;\n",
      "25 [label=\"age <= 31.5\\ngini = 0.291\\nsamples = 521\\nvalue = [429, 92]\"] ;\n",
      "24 -> 25 ;\n",
      "26 [label=\"gini = 0.279\\nsamples = 501\\nvalue = [417, 84]\"] ;\n",
      "25 -> 26 ;\n",
      "27 [label=\"gini = 0.48\\nsamples = 20\\nvalue = [12, 8]\"] ;\n",
      "25 -> 27 ;\n",
      "28 [label=\"fare <= 7.91\\ngini = 0.106\\nsamples = 143\\nvalue = [135, 8]\"] ;\n",
      "24 -> 28 ;\n",
      "29 [label=\"gini = 0.0\\nsamples = 41\\nvalue = [41, 0]\"] ;\n",
      "28 -> 29 ;\n",
      "30 [label=\"gini = 0.145\\nsamples = 102\\nvalue = [94, 8]\"] ;\n",
      "28 -> 30 ;\n",
      "}\n"
     ]
    }
   ],
   "source": [
    "dot_data = tree.export_graphviz(model, feature_names=X.columns) \n",
    "print(dot_data)"
   ]
  },
  {
   "cell_type": "code",
   "execution_count": 101,
   "id": "nervous-marine",
   "metadata": {},
   "outputs": [
    {
     "name": "stdout",
     "output_type": "stream",
     "text": [
      "0.665356380334006\n",
      "(3, 1, 100)\n",
      "0.6844461992922113\n",
      "(5, 1, 100)\n",
      "0.6844578982773245\n",
      "(7, 1, 100)\n",
      "0.684463747769881\n",
      "(7, 1, 101)\n",
      "0.6859904653271328\n",
      "(7, 1, 103)\n",
      "0.6867538241057589\n",
      "(7, 1, 107)\n",
      "0.6875171828843848\n",
      "(7, 1, 113)\n"
     ]
    }
   ],
   "source": [
    "from sklearn.model_selection import cross_val_score\n",
    "\n",
    "best_score = 0\n",
    "best_combo = None\n",
    "\n",
    "for depth in range(3, 14):\n",
    "    for leafs in range(1, 3):\n",
    "        for nodes in range(100, 150):\n",
    "            model = tree.DecisionTreeClassifier(max_depth = depth,\n",
    "                                                min_samples_leaf = leafs,\n",
    "                                                max_leaf_nodes = nodes)\n",
    "            cv_score = cross_val_score(model, X, y, cv=5).mean()\n",
    "            if cv_score > best_score:\n",
    "                best_score = cv_score\n",
    "                best_combo = (depth, leafs, nodes)\n",
    "                print(best_score)\n",
    "                print(best_combo)"
   ]
  },
  {
   "cell_type": "code",
   "execution_count": 115,
   "id": "classified-expense",
   "metadata": {},
   "outputs": [
    {
     "name": "stdout",
     "output_type": "stream",
     "text": [
      "digraph Tree {\n",
      "node [shape=box] ;\n",
      "0 [label=\"sex <= 0.5\\ngini = 0.472\\nsamples = 1309\\nvalue = [809, 500]\"] ;\n",
      "1 [label=\"pclass <= 2.5\\ngini = 0.397\\nsamples = 466\\nvalue = [127, 339]\"] ;\n",
      "0 -> 1 [labeldistance=2.5, labelangle=45, headlabel=\"True\"] ;\n",
      "3 [label=\"fare <= 26.125\\ngini = 0.127\\nsamples = 250\\nvalue = [17, 233]\"] ;\n",
      "1 -> 3 ;\n",
      "35 [label=\"age <= 56.0\\ngini = 0.258\\nsamples = 79\\nvalue = [12, 67]\"] ;\n",
      "3 -> 35 ;\n",
      "37 [label=\"age <= 1.0\\ngini = 0.226\\nsamples = 77\\nvalue = [10, 67]\"] ;\n",
      "35 -> 37 ;\n",
      "71 [label=\"fare <= 16.675\\ngini = 0.5\\nsamples = 2\\nvalue = [1, 1]\"] ;\n",
      "37 -> 71 ;\n",
      "73 [label=\"gini = 0.0\\nsamples = 1\\nvalue = [0, 1]\"] ;\n",
      "71 -> 73 ;\n",
      "74 [label=\"gini = 0.0\\nsamples = 1\\nvalue = [1, 0]\"] ;\n",
      "71 -> 74 ;\n",
      "72 [label=\"sibsp <= 0.5\\ngini = 0.211\\nsamples = 75\\nvalue = [9, 66]\"] ;\n",
      "37 -> 72 ;\n",
      "79 [label=\"fare <= 12.825\\ngini = 0.147\\nsamples = 50\\nvalue = [4, 46]\"] ;\n",
      "72 -> 79 ;\n",
      "137 [label=\"gini = 0.0\\nsamples = 11\\nvalue = [0, 11]\"] ;\n",
      "79 -> 137 ;\n",
      "138 [label=\"gini = 0.184\\nsamples = 39\\nvalue = [4, 35]\"] ;\n",
      "79 -> 138 ;\n",
      "80 [label=\"fare <= 13.429\\ngini = 0.32\\nsamples = 25\\nvalue = [5, 20]\"] ;\n",
      "72 -> 80 ;\n",
      "81 [label=\"gini = 0.0\\nsamples = 1\\nvalue = [1, 0]\"] ;\n",
      "80 -> 81 ;\n",
      "82 [label=\"gini = 0.278\\nsamples = 24\\nvalue = [4, 20]\"] ;\n",
      "80 -> 82 ;\n",
      "38 [label=\"gini = 0.0\\nsamples = 2\\nvalue = [2, 0]\"] ;\n",
      "35 -> 38 ;\n",
      "36 [label=\"fare <= 149.035\\ngini = 0.057\\nsamples = 171\\nvalue = [5, 166]\"] ;\n",
      "3 -> 36 ;\n",
      "115 [label=\"fare <= 31.681\\ngini = 0.029\\nsamples = 138\\nvalue = [2, 136]\"] ;\n",
      "36 -> 115 ;\n",
      "127 [label=\"fare <= 31.34\\ngini = 0.142\\nsamples = 26\\nvalue = [2, 24]\"] ;\n",
      "115 -> 127 ;\n",
      "129 [label=\"age <= 47.5\\ngini = 0.077\\nsamples = 25\\nvalue = [1, 24]\"] ;\n",
      "127 -> 129 ;\n",
      "131 [label=\"gini = 0.0\\nsamples = 20\\nvalue = [0, 20]\"] ;\n",
      "129 -> 131 ;\n",
      "132 [label=\"gini = 0.32\\nsamples = 5\\nvalue = [1, 4]\"] ;\n",
      "129 -> 132 ;\n",
      "130 [label=\"gini = 0.0\\nsamples = 1\\nvalue = [1, 0]\"] ;\n",
      "127 -> 130 ;\n",
      "128 [label=\"gini = 0.0\\nsamples = 112\\nvalue = [0, 112]\"] ;\n",
      "115 -> 128 ;\n",
      "116 [label=\"age <= 8.5\\ngini = 0.165\\nsamples = 33\\nvalue = [3, 30]\"] ;\n",
      "36 -> 116 ;\n",
      "117 [label=\"gini = 0.0\\nsamples = 1\\nvalue = [1, 0]\"] ;\n",
      "116 -> 117 ;\n",
      "118 [label=\"age <= 61.5\\ngini = 0.117\\nsamples = 32\\nvalue = [2, 30]\"] ;\n",
      "116 -> 118 ;\n",
      "119 [label=\"fare <= 152.506\\ngini = 0.062\\nsamples = 31\\nvalue = [1, 30]\"] ;\n",
      "118 -> 119 ;\n",
      "121 [label=\"gini = 0.444\\nsamples = 3\\nvalue = [1, 2]\"] ;\n",
      "119 -> 121 ;\n",
      "122 [label=\"gini = 0.0\\nsamples = 28\\nvalue = [0, 28]\"] ;\n",
      "119 -> 122 ;\n",
      "120 [label=\"gini = 0.0\\nsamples = 1\\nvalue = [1, 0]\"] ;\n",
      "118 -> 120 ;\n",
      "4 [label=\"fare <= 23.35\\ngini = 0.5\\nsamples = 216\\nvalue = [110, 106]\"] ;\n",
      "1 -> 4 ;\n",
      "5 [label=\"age <= 16.5\\ngini = 0.492\\nsamples = 183\\nvalue = [80, 103]\"] ;\n",
      "4 -> 5 ;\n",
      "13 [label=\"sibsp <= 2.5\\ngini = 0.447\\nsamples = 83\\nvalue = [28, 55]\"] ;\n",
      "5 -> 13 ;\n",
      "27 [label=\"fare <= 15.373\\ngini = 0.436\\nsamples = 81\\nvalue = [26, 55]\"] ;\n",
      "13 -> 27 ;\n",
      "29 [label=\"fare <= 13.596\\ngini = 0.477\\nsamples = 61\\nvalue = [24, 37]\"] ;\n",
      "27 -> 29 ;\n",
      "31 [label=\"gini = 0.435\\nsamples = 50\\nvalue = [16, 34]\"] ;\n",
      "29 -> 31 ;\n",
      "32 [label=\"gini = 0.397\\nsamples = 11\\nvalue = [8, 3]\"] ;\n",
      "29 -> 32 ;\n",
      "30 [label=\"age <= 1.5\\ngini = 0.18\\nsamples = 20\\nvalue = [2, 18]\"] ;\n",
      "27 -> 30 ;\n",
      "133 [label=\"gini = 0.117\\nsamples = 16\\nvalue = [1, 15]\"] ;\n",
      "30 -> 133 ;\n",
      "134 [label=\"gini = 0.375\\nsamples = 4\\nvalue = [1, 3]\"] ;\n",
      "30 -> 134 ;\n",
      "28 [label=\"gini = 0.0\\nsamples = 2\\nvalue = [2, 0]\"] ;\n",
      "13 -> 28 ;\n",
      "14 [label=\"fare <= 7.729\\ngini = 0.499\\nsamples = 100\\nvalue = [52, 48]\"] ;\n",
      "5 -> 14 ;\n",
      "15 [label=\"fare <= 6.85\\ngini = 0.355\\nsamples = 13\\nvalue = [3, 10]\"] ;\n",
      "14 -> 15 ;\n",
      "51 [label=\"gini = 0.0\\nsamples = 1\\nvalue = [1, 0]\"] ;\n",
      "15 -> 51 ;\n",
      "52 [label=\"fare <= 7.267\\ngini = 0.278\\nsamples = 12\\nvalue = [2, 10]\"] ;\n",
      "15 -> 52 ;\n",
      "69 [label=\"gini = 0.0\\nsamples = 6\\nvalue = [0, 6]\"] ;\n",
      "52 -> 69 ;\n",
      "70 [label=\"gini = 0.444\\nsamples = 6\\nvalue = [2, 4]\"] ;\n",
      "52 -> 70 ;\n",
      "16 [label=\"fare <= 15.646\\ngini = 0.492\\nsamples = 87\\nvalue = [49, 38]\"] ;\n",
      "14 -> 16 ;\n",
      "23 [label=\"age <= 27.5\\ngini = 0.472\\nsamples = 68\\nvalue = [42, 26]\"] ;\n",
      "16 -> 23 ;\n",
      "25 [label=\"gini = 0.499\\nsamples = 44\\nvalue = [23, 21]\"] ;\n",
      "23 -> 25 ;\n",
      "26 [label=\"gini = 0.33\\nsamples = 24\\nvalue = [19, 5]\"] ;\n",
      "23 -> 26 ;\n",
      "24 [label=\"fare <= 16.0\\ngini = 0.465\\nsamples = 19\\nvalue = [7, 12]\"] ;\n",
      "16 -> 24 ;\n",
      "49 [label=\"gini = 0.0\\nsamples = 4\\nvalue = [0, 4]\"] ;\n",
      "24 -> 49 ;\n",
      "50 [label=\"gini = 0.498\\nsamples = 15\\nvalue = [7, 8]\"] ;\n",
      "24 -> 50 ;\n",
      "6 [label=\"fare <= 32.881\\ngini = 0.165\\nsamples = 33\\nvalue = [30, 3]\"] ;\n",
      "4 -> 6 ;\n",
      "89 [label=\"fare <= 31.331\\ngini = 0.255\\nsamples = 20\\nvalue = [17, 3]\"] ;\n",
      "6 -> 89 ;\n",
      "91 [label=\"fare <= 24.808\\ngini = 0.105\\nsamples = 18\\nvalue = [17, 1]\"] ;\n",
      "89 -> 91 ;\n",
      "123 [label=\"age <= 5.0\\ngini = 0.32\\nsamples = 5\\nvalue = [4, 1]\"] ;\n",
      "91 -> 123 ;\n",
      "125 [label=\"gini = 0.444\\nsamples = 3\\nvalue = [2, 1]\"] ;\n",
      "123 -> 125 ;\n",
      "126 [label=\"gini = 0.0\\nsamples = 2\\nvalue = [2, 0]\"] ;\n",
      "123 -> 126 ;\n",
      "124 [label=\"gini = 0.0\\nsamples = 13\\nvalue = [13, 0]\"] ;\n",
      "91 -> 124 ;\n",
      "92 [label=\"gini = 0.0\\nsamples = 2\\nvalue = [0, 2]\"] ;\n",
      "89 -> 92 ;\n",
      "90 [label=\"gini = 0.0\\nsamples = 13\\nvalue = [13, 0]\"] ;\n",
      "6 -> 90 ;\n",
      "2 [label=\"pclass <= 1.5\\ngini = 0.309\\nsamples = 843\\nvalue = [682, 161]\"] ;\n",
      "0 -> 2 [labeldistance=2.5, labelangle=-45, headlabel=\"False\"] ;\n",
      "7 [label=\"age <= 54.5\\ngini = 0.449\\nsamples = 179\\nvalue = [118, 61]\"] ;\n",
      "2 -> 7 ;\n",
      "9 [label=\"fare <= 26.144\\ngini = 0.473\\nsamples = 151\\nvalue = [93, 58]\"] ;\n",
      "7 -> 9 ;\n",
      "19 [label=\"age <= 12.5\\ngini = 0.278\\nsamples = 18\\nvalue = [15, 3]\"] ;\n",
      "9 -> 19 ;\n",
      "99 [label=\"fare <= 12.871\\ngini = 0.408\\nsamples = 7\\nvalue = [5, 2]\"] ;\n",
      "19 -> 99 ;\n",
      "101 [label=\"gini = 0.0\\nsamples = 3\\nvalue = [3, 0]\"] ;\n",
      "99 -> 101 ;\n",
      "102 [label=\"fare <= 25.833\\ngini = 0.5\\nsamples = 4\\nvalue = [2, 2]\"] ;\n",
      "99 -> 102 ;\n",
      "103 [label=\"gini = 0.0\\nsamples = 1\\nvalue = [0, 1]\"] ;\n",
      "102 -> 103 ;\n",
      "104 [label=\"gini = 0.444\\nsamples = 3\\nvalue = [2, 1]\"] ;\n",
      "102 -> 104 ;\n",
      "100 [label=\"age <= 48.0\\ngini = 0.165\\nsamples = 11\\nvalue = [10, 1]\"] ;\n",
      "19 -> 100 ;\n",
      "105 [label=\"gini = 0.0\\nsamples = 8\\nvalue = [8, 0]\"] ;\n",
      "100 -> 105 ;\n",
      "106 [label=\"fare <= 13.0\\ngini = 0.444\\nsamples = 3\\nvalue = [2, 1]\"] ;\n",
      "100 -> 106 ;\n",
      "107 [label=\"gini = 0.0\\nsamples = 1\\nvalue = [0, 1]\"] ;\n",
      "106 -> 107 ;\n",
      "108 [label=\"gini = 0.0\\nsamples = 2\\nvalue = [2, 0]\"] ;\n",
      "106 -> 108 ;\n",
      "20 [label=\"fare <= 26.469\\ngini = 0.485\\nsamples = 133\\nvalue = [78, 55]\"] ;\n",
      "9 -> 20 ;\n",
      "21 [label=\"gini = 0.0\\nsamples = 4\\nvalue = [0, 4]\"] ;\n",
      "20 -> 21 ;\n",
      "22 [label=\"fare <= 387.665\\ngini = 0.478\\nsamples = 129\\nvalue = [78, 51]\"] ;\n",
      "20 -> 22 ;\n",
      "39 [label=\"fare <= 135.067\\ngini = 0.474\\nsamples = 127\\nvalue = [78, 49]\"] ;\n",
      "22 -> 39 ;\n",
      "41 [label=\"gini = 0.486\\nsamples = 113\\nvalue = [66, 47]\"] ;\n",
      "39 -> 41 ;\n",
      "42 [label=\"gini = 0.245\\nsamples = 14\\nvalue = [12, 2]\"] ;\n",
      "39 -> 42 ;\n",
      "40 [label=\"gini = 0.0\\nsamples = 2\\nvalue = [0, 2]\"] ;\n",
      "22 -> 40 ;\n",
      "10 [label=\"age <= 75.5\\ngini = 0.191\\nsamples = 28\\nvalue = [25, 3]\"] ;\n",
      "7 -> 10 ;\n",
      "33 [label=\"age <= 60.5\\ngini = 0.137\\nsamples = 27\\nvalue = [25, 2]\"] ;\n",
      "10 -> 33 ;\n",
      "109 [label=\"age <= 59.0\\ngini = 0.26\\nsamples = 13\\nvalue = [11, 2]\"] ;\n",
      "33 -> 109 ;\n",
      "111 [label=\"fare <= 42.75\\ngini = 0.165\\nsamples = 11\\nvalue = [10, 1]\"] ;\n",
      "109 -> 111 ;\n",
      "135 [label=\"gini = 0.32\\nsamples = 5\\nvalue = [4, 1]\"] ;\n",
      "111 -> 135 ;\n",
      "136 [label=\"gini = 0.0\\nsamples = 6\\nvalue = [6, 0]\"] ;\n",
      "111 -> 136 ;\n",
      "112 [label=\"fare <= 52.875\\ngini = 0.5\\nsamples = 2\\nvalue = [1, 1]\"] ;\n",
      "109 -> 112 ;\n",
      "113 [label=\"gini = 0.0\\nsamples = 1\\nvalue = [1, 0]\"] ;\n",
      "112 -> 113 ;\n",
      "114 [label=\"gini = 0.0\\nsamples = 1\\nvalue = [0, 1]\"] ;\n",
      "112 -> 114 ;\n",
      "110 [label=\"gini = 0.0\\nsamples = 14\\nvalue = [14, 0]\"] ;\n",
      "33 -> 110 ;\n",
      "34 [label=\"gini = 0.0\\nsamples = 1\\nvalue = [0, 1]\"] ;\n",
      "10 -> 34 ;\n",
      "8 [label=\"age <= 32.25\\ngini = 0.256\\nsamples = 664\\nvalue = [564, 100]\"] ;\n",
      "2 -> 8 ;\n",
      "11 [label=\"age <= 31.5\\ngini = 0.291\\nsamples = 521\\nvalue = [429, 92]\"] ;\n",
      "8 -> 11 ;\n",
      "17 [label=\"fare <= 9.221\\ngini = 0.279\\nsamples = 501\\nvalue = [417, 84]\"] ;\n",
      "11 -> 17 ;\n",
      "43 [label=\"fare <= 7.825\\ngini = 0.232\\nsamples = 283\\nvalue = [245, 38]\"] ;\n",
      "17 -> 43 ;\n",
      "59 [label=\"fare <= 7.785\\ngini = 0.291\\nsamples = 153\\nvalue = [126, 27]\"] ;\n",
      "43 -> 59 ;\n",
      "61 [label=\"gini = 0.254\\nsamples = 141\\nvalue = [120, 21]\"] ;\n",
      "59 -> 61 ;\n",
      "62 [label=\"gini = 0.5\\nsamples = 12\\nvalue = [6, 6]\"] ;\n",
      "59 -> 62 ;\n",
      "60 [label=\"age <= 30.75\\ngini = 0.155\\nsamples = 130\\nvalue = [119, 11]\"] ;\n",
      "43 -> 60 ;\n",
      "63 [label=\"gini = 0.143\\nsamples = 129\\nvalue = [119, 10]\"] ;\n",
      "60 -> 63 ;\n",
      "64 [label=\"gini = 0.0\\nsamples = 1\\nvalue = [0, 1]\"] ;\n",
      "60 -> 64 ;\n",
      "44 [label=\"age <= 9.5\\ngini = 0.333\\nsamples = 218\\nvalue = [172, 46]\"] ;\n",
      "17 -> 44 ;\n",
      "45 [label=\"pclass <= 2.5\\ngini = 0.46\\nsamples = 81\\nvalue = [52, 29]\"] ;\n",
      "44 -> 45 ;\n",
      "47 [label=\"gini = 0.401\\nsamples = 18\\nvalue = [5, 13]\"] ;\n",
      "45 -> 47 ;\n",
      "48 [label=\"gini = 0.379\\nsamples = 63\\nvalue = [47, 16]\"] ;\n",
      "45 -> 48 ;\n",
      "46 [label=\"fare <= 11.371\\ngini = 0.217\\nsamples = 137\\nvalue = [120, 17]\"] ;\n",
      "44 -> 46 ;\n",
      "65 [label=\"gini = 0.346\\nsamples = 36\\nvalue = [28, 8]\"] ;\n",
      "46 -> 65 ;\n",
      "66 [label=\"gini = 0.162\\nsamples = 101\\nvalue = [92, 9]\"] ;\n",
      "46 -> 66 ;\n",
      "18 [label=\"fare <= 7.875\\ngini = 0.48\\nsamples = 20\\nvalue = [12, 8]\"] ;\n",
      "11 -> 18 ;\n",
      "53 [label=\"fare <= 7.763\\ngini = 0.375\\nsamples = 4\\nvalue = [1, 3]\"] ;\n",
      "18 -> 53 ;\n",
      "75 [label=\"fare <= 7.665\\ngini = 0.5\\nsamples = 2\\nvalue = [1, 1]\"] ;\n",
      "53 -> 75 ;\n",
      "77 [label=\"gini = 0.0\\nsamples = 1\\nvalue = [0, 1]\"] ;\n",
      "75 -> 77 ;\n",
      "78 [label=\"gini = 0.0\\nsamples = 1\\nvalue = [1, 0]\"] ;\n",
      "75 -> 78 ;\n",
      "76 [label=\"gini = 0.0\\nsamples = 2\\nvalue = [0, 2]\"] ;\n",
      "53 -> 76 ;\n",
      "54 [label=\"fare <= 24.262\\ngini = 0.43\\nsamples = 16\\nvalue = [11, 5]\"] ;\n",
      "18 -> 54 ;\n",
      "55 [label=\"fare <= 8.206\\ngini = 0.278\\nsamples = 12\\nvalue = [10, 2]\"] ;\n",
      "54 -> 55 ;\n",
      "67 [label=\"gini = 0.444\\nsamples = 6\\nvalue = [4, 2]\"] ;\n",
      "55 -> 67 ;\n",
      "68 [label=\"gini = 0.0\\nsamples = 6\\nvalue = [6, 0]\"] ;\n",
      "55 -> 68 ;\n",
      "56 [label=\"fare <= 64.998\\ngini = 0.375\\nsamples = 4\\nvalue = [1, 3]\"] ;\n",
      "54 -> 56 ;\n",
      "57 [label=\"gini = 0.0\\nsamples = 3\\nvalue = [0, 3]\"] ;\n",
      "56 -> 57 ;\n",
      "58 [label=\"gini = 0.0\\nsamples = 1\\nvalue = [1, 0]\"] ;\n",
      "56 -> 58 ;\n",
      "12 [label=\"fare <= 7.91\\ngini = 0.106\\nsamples = 143\\nvalue = [135, 8]\"] ;\n",
      "8 -> 12 ;\n",
      "83 [label=\"gini = 0.0\\nsamples = 41\\nvalue = [41, 0]\"] ;\n",
      "12 -> 83 ;\n",
      "84 [label=\"fare <= 7.988\\ngini = 0.145\\nsamples = 102\\nvalue = [94, 8]\"] ;\n",
      "12 -> 84 ;\n",
      "85 [label=\"age <= 38.0\\ngini = 0.5\\nsamples = 4\\nvalue = [2, 2]\"] ;\n",
      "84 -> 85 ;\n",
      "87 [label=\"gini = 0.0\\nsamples = 1\\nvalue = [1, 0]\"] ;\n",
      "85 -> 87 ;\n",
      "88 [label=\"age <= 41.5\\ngini = 0.444\\nsamples = 3\\nvalue = [1, 2]\"] ;\n",
      "85 -> 88 ;\n",
      "97 [label=\"gini = 0.5\\nsamples = 2\\nvalue = [1, 1]\"] ;\n",
      "88 -> 97 ;\n",
      "98 [label=\"gini = 0.0\\nsamples = 1\\nvalue = [0, 1]\"] ;\n",
      "88 -> 98 ;\n",
      "86 [label=\"fare <= 18.962\\ngini = 0.115\\nsamples = 98\\nvalue = [92, 6]\"] ;\n",
      "84 -> 86 ;\n",
      "93 [label=\"fare <= 16.75\\ngini = 0.163\\nsamples = 67\\nvalue = [61, 6]\"] ;\n",
      "86 -> 93 ;\n",
      "95 [label=\"gini = 0.14\\nsamples = 66\\nvalue = [61, 5]\"] ;\n",
      "93 -> 95 ;\n",
      "96 [label=\"gini = 0.0\\nsamples = 1\\nvalue = [0, 1]\"] ;\n",
      "93 -> 96 ;\n",
      "94 [label=\"gini = 0.0\\nsamples = 31\\nvalue = [31, 0]\"] ;\n",
      "86 -> 94 ;\n",
      "}\n"
     ]
    }
   ],
   "source": [
    "model = tree.DecisionTreeClassifier(max_depth = 7,\n",
    "                                    min_samples_leaf = 1,\n",
    "                                    max_leaf_nodes = 113).fit(X, y)\n",
    "dot_data = tree.export_graphviz(model, feature_names=X.columns) \n",
    "print(dot_data)"
   ]
  },
  {
   "cell_type": "code",
   "execution_count": null,
   "id": "forced-soundtrack",
   "metadata": {},
   "outputs": [],
   "source": []
  },
  {
   "cell_type": "code",
   "execution_count": null,
   "id": "frozen-sauce",
   "metadata": {},
   "outputs": [],
   "source": []
  },
  {
   "cell_type": "code",
   "execution_count": 31,
   "id": "potential-amount",
   "metadata": {},
   "outputs": [
    {
     "name": "stdout",
     "output_type": "stream",
     "text": [
      "0.8666666666666667\n"
     ]
    }
   ],
   "source": [
    "digits = load_digits()\n",
    "X = digits.data\n",
    "y = digits.target\n",
    "\n",
    "X_train, X_test, y_train, y_test = train_test_split(X, y, test_size=0.2, random_state=42)\n",
    "\n",
    "model = tree.DecisionTreeClassifier().fit(X_train, y_train)\n",
    "score = model.score(X_test, y_test)\n",
    "print(score)"
   ]
  },
  {
   "cell_type": "code",
   "execution_count": 42,
   "id": "chicken-coffee",
   "metadata": {},
   "outputs": [
    {
     "name": "stdout",
     "output_type": "stream",
     "text": [
      "0.7830114515629836\n",
      "(8, 1, 100)\n",
      "0.7846781182296503\n",
      "(8, 1, 140)\n",
      "0.7897028783658311\n",
      "(9, 1, 104)\n",
      "0.7913649025069638\n",
      "(9, 1, 120)\n",
      "0.7930331166821418\n",
      "(9, 1, 128)\n",
      "0.795818632002476\n",
      "(10, 1, 123)\n"
     ]
    }
   ],
   "source": [
    "from sklearn.model_selection import cross_val_score\n",
    "\n",
    "best_score = 0\n",
    "best_combo = None\n",
    "\n",
    "for depth in range(8, 14):\n",
    "    for leafs in range(1, 3):\n",
    "        for nodes in range(100, 150):\n",
    "            model = tree.DecisionTreeClassifier(max_depth = depth,\n",
    "                                                min_samples_leaf = leafs,\n",
    "                                                max_leaf_nodes = nodes)\n",
    "            cv_score = cross_val_score(model, X, y, cv=5).mean()\n",
    "            if cv_score > best_score:\n",
    "                best_score = cv_score\n",
    "                best_combo = (depth, leafs, nodes)\n",
    "                print(best_score)\n",
    "                print(best_combo)\n",
    "\n",
    "\n"
   ]
  },
  {
   "cell_type": "code",
   "execution_count": 60,
   "id": "municipal-civilian",
   "metadata": {},
   "outputs": [
    {
     "name": "stdout",
     "output_type": "stream",
     "text": [
      "Model guessed 3\n",
      "The target was 2\n"
     ]
    },
    {
     "data": {
      "text/plain": [
       "<Figure size 432x288 with 0 Axes>"
      ]
     },
     "metadata": {},
     "output_type": "display_data"
    },
    {
     "data": {
      "image/png": "[encoded data removed]",
      "text/plain": [
       "<Figure size 288x288 with 1 Axes>"
      ]
     },
     "metadata": {
      "needs_background": "light"
     },
     "output_type": "display_data"
    },
    {
     "name": "stdout",
     "output_type": "stream",
     "text": [
      "Model guessed 7\n",
      "The target was 2\n"
     ]
    },
    {
     "data": {
      "text/plain": [
       "<Figure size 432x288 with 0 Axes>"
      ]
     },
     "metadata": {},
     "output_type": "display_data"
    },
    {
     "data": {
      "image/png": "[encoded data removed]",
      "text/plain": [
       "<Figure size 288x288 with 1 Axes>"
      ]
     },
     "metadata": {
      "needs_background": "light"
     },
     "output_type": "display_data"
    },
    {
     "name": "stdout",
     "output_type": "stream",
     "text": [
      "Model guessed 2\n",
      "The target was 1\n"
     ]
    },
    {
     "data": {
      "text/plain": [
       "<Figure size 432x288 with 0 Axes>"
      ]
     },
     "metadata": {},
     "output_type": "display_data"
    },
    {
     "data": {
      "image/png": "[encoded data removed]",
      "text/plain": [
       "<Figure size 288x288 with 1 Axes>"
      ]
     },
     "metadata": {
      "needs_background": "light"
     },
     "output_type": "display_data"
    },
    {
     "name": "stdout",
     "output_type": "stream",
     "text": [
      "Model guessed 6\n",
      "The target was 9\n"
     ]
    },
    {
     "data": {
      "text/plain": [
       "<Figure size 432x288 with 0 Axes>"
      ]
     },
     "metadata": {},
     "output_type": "display_data"
    },
    {
     "data": {
      "image/png": "[encoded data removed]",
      "text/plain": [
       "<Figure size 288x288 with 1 Axes>"
      ]
     },
     "metadata": {
      "needs_background": "light"
     },
     "output_type": "display_data"
    },
    {
     "name": "stdout",
     "output_type": "stream",
     "text": [
      "Model guessed 4\n",
      "The target was 8\n"
     ]
    },
    {
     "data": {
      "text/plain": [
       "<Figure size 432x288 with 0 Axes>"
      ]
     },
     "metadata": {},
     "output_type": "display_data"
    },
    {
     "data": {
      "image/png": "[encoded data removed]",
      "text/plain": [
       "<Figure size 288x288 with 1 Axes>"
      ]
     },
     "metadata": {
      "needs_background": "light"
     },
     "output_type": "display_data"
    },
    {
     "name": "stdout",
     "output_type": "stream",
     "text": [
      "Model guessed 5\n",
      "The target was 9\n"
     ]
    },
    {
     "data": {
      "text/plain": [
       "<Figure size 432x288 with 0 Axes>"
      ]
     },
     "metadata": {},
     "output_type": "display_data"
    },
    {
     "data": {
      "image/png": "[encoded data removed]",
      "text/plain": [
       "<Figure size 288x288 with 1 Axes>"
      ]
     },
     "metadata": {
      "needs_background": "light"
     },
     "output_type": "display_data"
    },
    {
     "name": "stdout",
     "output_type": "stream",
     "text": [
      "Model guessed 3\n",
      "The target was 9\n"
     ]
    },
    {
     "data": {
      "text/plain": [
       "<Figure size 432x288 with 0 Axes>"
      ]
     },
     "metadata": {},
     "output_type": "display_data"
    },
    {
     "data": {
      "image/png": "[encoded data removed]",
      "text/plain": [
       "<Figure size 288x288 with 1 Axes>"
      ]
     },
     "metadata": {
      "needs_background": "light"
     },
     "output_type": "display_data"
    },
    {
     "name": "stdout",
     "output_type": "stream",
     "text": [
      "Model guessed 8\n",
      "The target was 1\n"
     ]
    },
    {
     "data": {
      "text/plain": [
       "<Figure size 432x288 with 0 Axes>"
      ]
     },
     "metadata": {},
     "output_type": "display_data"
    },
    {
     "data": {
      "image/png": "[encoded data removed]",
      "text/plain": [
       "<Figure size 288x288 with 1 Axes>"
      ]
     },
     "metadata": {
      "needs_background": "light"
     },
     "output_type": "display_data"
    },
    {
     "name": "stdout",
     "output_type": "stream",
     "text": [
      "Model guessed 5\n",
      "The target was 0\n"
     ]
    },
    {
     "data": {
      "text/plain": [
       "<Figure size 432x288 with 0 Axes>"
      ]
     },
     "metadata": {},
     "output_type": "display_data"
    },
    {
     "data": {
      "image/png": "[encoded data removed]",
      "text/plain": [
       "<Figure size 288x288 with 1 Axes>"
      ]
     },
     "metadata": {
      "needs_background": "light"
     },
     "output_type": "display_data"
    },
    {
     "name": "stdout",
     "output_type": "stream",
     "text": [
      "Model guessed 9\n",
      "The target was 5\n"
     ]
    },
    {
     "data": {
      "text/plain": [
       "<Figure size 432x288 with 0 Axes>"
      ]
     },
     "metadata": {},
     "output_type": "display_data"
    },
    {
     "data": {
      "image/png": "[encoded data removed]",
      "text/plain": [
       "<Figure size 288x288 with 1 Axes>"
      ]
     },
     "metadata": {
      "needs_background": "light"
     },
     "output_type": "display_data"
    }
   ],
   "source": [
    "import matplotlib.pyplot as plt\n",
    "\n",
    "model = tree.DecisionTreeClassifier(max_depth = 10,\n",
    "                                    min_samples_leaf = 1,\n",
    "                                    max_leaf_nodes = 123).fit(X_train, y_train)\n",
    "num_misses = 0\n",
    "\n",
    "guesses = model.predict(X_test)\n",
    "\n",
    "for i, guess in enumerate(guesses):\n",
    "    target = y_test[i]\n",
    "    if guess != target:\n",
    "        num_misses += 1\n",
    "        print(\"Model guessed \" + str(guess))\n",
    "        print(\"The target was \" + str(target))\n",
    "        pic = X_test[i].reshape((8, 8))\n",
    "        plt.gray()\n",
    "        plt.matshow(pic)\n",
    "        plt.show()\n",
    "    if num_misses == 10:\n",
    "        break"
   ]
  },
  {
   "cell_type": "code",
   "execution_count": 111,
   "id": "killing-lindsay",
   "metadata": {},
   "outputs": [],
   "source": [
    "from sklearn.datasets import load_boston\n",
    "import pandas as pd"
   ]
  },
  {
   "cell_type": "code",
   "execution_count": 116,
   "id": "infinite-collection",
   "metadata": {},
   "outputs": [
    {
     "data": {
      "text/html": [
       "<div>\n",
       "<style scoped>\n",
       "    .dataframe tbody tr th:only-of-type {\n",
       "        vertical-align: middle;\n",
       "    }\n",
       "\n",
       "    .dataframe tbody tr th {\n",
       "        vertical-align: top;\n",
       "    }\n",
       "\n",
       "    .dataframe thead th {\n",
       "        text-align: right;\n",
       "    }\n",
       "</style>\n",
       "<table border=\"1\" class=\"dataframe\">\n",
       "  <thead>\n",
       "    <tr style=\"text-align: right;\">\n",
       "      <th></th>\n",
       "      <th>CRIM</th>\n",
       "      <th>ZN</th>\n",
       "      <th>INDUS</th>\n",
       "      <th>CHAS</th>\n",
       "      <th>NOX</th>\n",
       "      <th>RM</th>\n",
       "      <th>AGE</th>\n",
       "      <th>DIS</th>\n",
       "      <th>RAD</th>\n",
       "      <th>TAX</th>\n",
       "      <th>PTRATIO</th>\n",
       "      <th>B</th>\n",
       "      <th>LSTAT</th>\n",
       "    </tr>\n",
       "  </thead>\n",
       "  <tbody>\n",
       "    <tr>\n",
       "      <th>0</th>\n",
       "      <td>0.00632</td>\n",
       "      <td>18.0</td>\n",
       "      <td>2.31</td>\n",
       "      <td>0.0</td>\n",
       "      <td>0.538</td>\n",
       "      <td>6.575</td>\n",
       "      <td>65.2</td>\n",
       "      <td>4.0900</td>\n",
       "      <td>1.0</td>\n",
       "      <td>296.0</td>\n",
       "      <td>15.3</td>\n",
       "      <td>396.90</td>\n",
       "      <td>4.98</td>\n",
       "    </tr>\n",
       "    <tr>\n",
       "      <th>1</th>\n",
       "      <td>0.02731</td>\n",
       "      <td>0.0</td>\n",
       "      <td>7.07</td>\n",
       "      <td>0.0</td>\n",
       "      <td>0.469</td>\n",
       "      <td>6.421</td>\n",
       "      <td>78.9</td>\n",
       "      <td>4.9671</td>\n",
       "      <td>2.0</td>\n",
       "      <td>242.0</td>\n",
       "      <td>17.8</td>\n",
       "      <td>396.90</td>\n",
       "      <td>9.14</td>\n",
       "    </tr>\n",
       "    <tr>\n",
       "      <th>2</th>\n",
       "      <td>0.02729</td>\n",
       "      <td>0.0</td>\n",
       "      <td>7.07</td>\n",
       "      <td>0.0</td>\n",
       "      <td>0.469</td>\n",
       "      <td>7.185</td>\n",
       "      <td>61.1</td>\n",
       "      <td>4.9671</td>\n",
       "      <td>2.0</td>\n",
       "      <td>242.0</td>\n",
       "      <td>17.8</td>\n",
       "      <td>392.83</td>\n",
       "      <td>4.03</td>\n",
       "    </tr>\n",
       "    <tr>\n",
       "      <th>3</th>\n",
       "      <td>0.03237</td>\n",
       "      <td>0.0</td>\n",
       "      <td>2.18</td>\n",
       "      <td>0.0</td>\n",
       "      <td>0.458</td>\n",
       "      <td>6.998</td>\n",
       "      <td>45.8</td>\n",
       "      <td>6.0622</td>\n",
       "      <td>3.0</td>\n",
       "      <td>222.0</td>\n",
       "      <td>18.7</td>\n",
       "      <td>394.63</td>\n",
       "      <td>2.94</td>\n",
       "    </tr>\n",
       "    <tr>\n",
       "      <th>4</th>\n",
       "      <td>0.06905</td>\n",
       "      <td>0.0</td>\n",
       "      <td>2.18</td>\n",
       "      <td>0.0</td>\n",
       "      <td>0.458</td>\n",
       "      <td>7.147</td>\n",
       "      <td>54.2</td>\n",
       "      <td>6.0622</td>\n",
       "      <td>3.0</td>\n",
       "      <td>222.0</td>\n",
       "      <td>18.7</td>\n",
       "      <td>396.90</td>\n",
       "      <td>5.33</td>\n",
       "    </tr>\n",
       "  </tbody>\n",
       "</table>\n",
       "</div>"
      ],
      "text/plain": [
       "      CRIM    ZN  INDUS  CHAS    NOX     RM   AGE     DIS  RAD    TAX  \\\n",
       "0  0.00632  18.0   2.31   0.0  0.538  6.575  65.2  4.0900  1.0  296.0   \n",
       "1  0.02731   0.0   7.07   0.0  0.469  6.421  78.9  4.9671  2.0  242.0   \n",
       "2  0.02729   0.0   7.07   0.0  0.469  7.185  61.1  4.9671  2.0  242.0   \n",
       "3  0.03237   0.0   2.18   0.0  0.458  6.998  45.8  6.0622  3.0  222.0   \n",
       "4  0.06905   0.0   2.18   0.0  0.458  7.147  54.2  6.0622  3.0  222.0   \n",
       "\n",
       "   PTRATIO       B  LSTAT  \n",
       "0     15.3  396.90   4.98  \n",
       "1     17.8  396.90   9.14  \n",
       "2     17.8  392.83   4.03  \n",
       "3     18.7  394.63   2.94  \n",
       "4     18.7  396.90   5.33  "
      ]
     },
     "execution_count": 116,
     "metadata": {},
     "output_type": "execute_result"
    }
   ],
   "source": [
    "houses = load_boston()\n",
    "\n",
    "X = pd.DataFrame(houses.data, columns=houses.feature_names)\n",
    "y = houses.target\n",
    "\n",
    "X_train, X_test, y_train, y_test = train_test_split(X, y, test_size=0.2, random_state=42)\n",
    "X.head()"
   ]
  },
  {
   "cell_type": "code",
   "execution_count": 119,
   "id": "middle-terrain",
   "metadata": {},
   "outputs": [
    {
     "name": "stdout",
     "output_type": "stream",
     "text": [
      "0.2965483145678807\n",
      "(3, 1, 100)\n",
      "0.3270899192541008\n",
      "(3, 1, 101)\n",
      "0.33007082835920853\n",
      "(3, 1, 105)\n",
      "0.3300708283592086\n",
      "(3, 1, 113)\n",
      "0.34176794113010855\n",
      "(5, 1, 147)\n",
      "0.355113190484291\n",
      "(5, 1, 148)\n"
     ]
    }
   ],
   "source": [
    "best_score = 0\n",
    "best_combo = None\n",
    "\n",
    "for depth in range(3, 6):\n",
    "    for leafs in range(1, 3):\n",
    "        for nodes in range(100, 150):\n",
    "            model = tree.DecisionTreeRegressor(max_depth = depth,\n",
    "                                                min_samples_leaf = leafs,\n",
    "                                                max_leaf_nodes = nodes)\n",
    "            cv_score = cross_val_score(model, X, y, cv=5).mean()\n",
    "            if cv_score > best_score:\n",
    "                best_score = cv_score\n",
    "                best_combo = (depth, leafs, nodes)\n",
    "                print(best_score)\n",
    "                print(best_combo)"
   ]
  },
  {
   "cell_type": "code",
   "execution_count": 121,
   "id": "legislative-transcription",
   "metadata": {},
   "outputs": [
    {
     "name": "stdout",
     "output_type": "stream",
     "text": [
      "digraph Tree {\n",
      "node [shape=box] ;\n",
      "0 [label=\"RM <= 6.941\\nmse = 84.42\\nsamples = 506\\nvalue = 22.533\"] ;\n",
      "1 [label=\"LSTAT <= 14.4\\nmse = 40.273\\nsamples = 430\\nvalue = 19.934\"] ;\n",
      "0 -> 1 [labeldistance=2.5, labelangle=45, headlabel=\"True\"] ;\n",
      "3 [label=\"DIS <= 1.385\\nmse = 26.009\\nsamples = 255\\nvalue = 23.35\"] ;\n",
      "1 -> 3 ;\n",
      "7 [label=\"LSTAT <= 10.83\\nmse = 78.146\\nsamples = 5\\nvalue = 45.58\"] ;\n",
      "3 -> 7 ;\n",
      "17 [label=\"mse = 0.0\\nsamples = 4\\nvalue = 50.0\"] ;\n",
      "7 -> 17 ;\n",
      "18 [label=\"mse = -0.0\\nsamples = 1\\nvalue = 27.9\"] ;\n",
      "7 -> 18 ;\n",
      "8 [label=\"RM <= 6.543\\nmse = 14.885\\nsamples = 250\\nvalue = 22.905\"] ;\n",
      "3 -> 8 ;\n",
      "9 [label=\"LSTAT <= 7.57\\nmse = 8.39\\nsamples = 195\\nvalue = 21.63\"] ;\n",
      "8 -> 9 ;\n",
      "23 [label=\"mse = 3.015\\nsamples = 43\\nvalue = 23.97\"] ;\n",
      "9 -> 23 ;\n",
      "24 [label=\"mse = 7.924\\nsamples = 152\\nvalue = 20.968\"] ;\n",
      "9 -> 24 ;\n",
      "10 [label=\"TAX <= 269.0\\nmse = 11.694\\nsamples = 55\\nvalue = 27.427\"] ;\n",
      "8 -> 10 ;\n",
      "29 [label=\"mse = 5.38\\nsamples = 17\\nvalue = 30.241\"] ;\n",
      "10 -> 29 ;\n",
      "30 [label=\"mse = 9.392\\nsamples = 38\\nvalue = 26.168\"] ;\n",
      "10 -> 30 ;\n",
      "4 [label=\"CRIM <= 6.992\\nmse = 19.276\\nsamples = 175\\nvalue = 14.956\"] ;\n",
      "1 -> 4 ;\n",
      "11 [label=\"NOX <= 0.531\\nmse = 11.391\\nsamples = 101\\nvalue = 17.138\"] ;\n",
      "4 -> 11 ;\n",
      "25 [label=\"DIS <= 5.57\\nmse = 9.016\\nsamples = 24\\nvalue = 20.021\"] ;\n",
      "11 -> 25 ;\n",
      "43 [label=\"mse = 2.862\\nsamples = 13\\nvalue = 21.454\"] ;\n",
      "25 -> 43 ;\n",
      "44 [label=\"mse = 10.993\\nsamples = 11\\nvalue = 18.327\"] ;\n",
      "25 -> 44 ;\n",
      "26 [label=\"LSTAT <= 18.885\\nmse = 8.733\\nsamples = 77\\nvalue = 16.239\"] ;\n",
      "11 -> 26 ;\n",
      "31 [label=\"mse = 5.952\\nsamples = 53\\nvalue = 17.234\"] ;\n",
      "26 -> 31 ;\n",
      "32 [label=\"mse = 7.862\\nsamples = 24\\nvalue = 14.042\"] ;\n",
      "26 -> 32 ;\n",
      "12 [label=\"NOX <= 0.606\\nmse = 14.674\\nsamples = 74\\nvalue = 11.978\"] ;\n",
      "4 -> 12 ;\n",
      "21 [label=\"RM <= 6.843\\nmse = 18.606\\nsamples = 12\\nvalue = 16.633\"] ;\n",
      "12 -> 21 ;\n",
      "37 [label=\"mse = 8.586\\nsamples = 11\\nvalue = 15.645\"] ;\n",
      "21 -> 37 ;\n",
      "38 [label=\"mse = -0.0\\nsamples = 1\\nvalue = 27.5\"] ;\n",
      "21 -> 38 ;\n",
      "22 [label=\"LSTAT <= 19.645\\nmse = 8.908\\nsamples = 62\\nvalue = 11.077\"] ;\n",
      "12 -> 22 ;\n",
      "27 [label=\"mse = 4.18\\nsamples = 18\\nvalue = 13.922\"] ;\n",
      "22 -> 27 ;\n",
      "28 [label=\"mse = 6.177\\nsamples = 44\\nvalue = 9.914\"] ;\n",
      "22 -> 28 ;\n",
      "2 [label=\"RM <= 7.437\\nmse = 79.729\\nsamples = 76\\nvalue = 37.238\"] ;\n",
      "0 -> 2 [labeldistance=2.5, labelangle=-45, headlabel=\"False\"] ;\n",
      "5 [label=\"NOX <= 0.659\\nmse = 41.296\\nsamples = 46\\nvalue = 32.113\"] ;\n",
      "2 -> 5 ;\n",
      "13 [label=\"DIS <= 1.886\\nmse = 20.111\\nsamples = 43\\nvalue = 33.349\"] ;\n",
      "5 -> 13 ;\n",
      "19 [label=\"INDUS <= 18.84\\nmse = 18.923\\nsamples = 2\\nvalue = 45.65\"] ;\n",
      "13 -> 19 ;\n",
      "45 [label=\"mse = 0.0\\nsamples = 1\\nvalue = 50.0\"] ;\n",
      "19 -> 45 ;\n",
      "46 [label=\"mse = -0.0\\nsamples = 1\\nvalue = 41.3\"] ;\n",
      "19 -> 46 ;\n",
      "20 [label=\"NOX <= 0.488\\nmse = 12.427\\nsamples = 41\\nvalue = 32.749\"] ;\n",
      "13 -> 20 ;\n",
      "33 [label=\"mse = 5.014\\nsamples = 27\\nvalue = 34.156\"] ;\n",
      "20 -> 33 ;\n",
      "34 [label=\"mse = 15.547\\nsamples = 14\\nvalue = 30.036\"] ;\n",
      "20 -> 34 ;\n",
      "14 [label=\"RM <= 7.141\\nmse = 9.307\\nsamples = 3\\nvalue = 14.4\"] ;\n",
      "5 -> 14 ;\n",
      "47 [label=\"mse = 0.0\\nsamples = 1\\nvalue = 10.4\"] ;\n",
      "14 -> 47 ;\n",
      "48 [label=\"B <= 386.385\\nmse = 1.96\\nsamples = 2\\nvalue = 16.4\"] ;\n",
      "14 -> 48 ;\n",
      "49 [label=\"mse = 0.0\\nsamples = 1\\nvalue = 17.8\"] ;\n",
      "48 -> 49 ;\n",
      "50 [label=\"mse = 0.0\\nsamples = 1\\nvalue = 15.0\"] ;\n",
      "48 -> 50 ;\n",
      "6 [label=\"CRIM <= 2.742\\nmse = 36.628\\nsamples = 30\\nvalue = 45.097\"] ;\n",
      "2 -> 6 ;\n",
      "15 [label=\"PTRATIO <= 14.8\\nmse = 18.697\\nsamples = 29\\nvalue = 45.897\"] ;\n",
      "6 -> 15 ;\n",
      "35 [label=\"RM <= 7.706\\nmse = 8.027\\nsamples = 14\\nvalue = 48.3\"] ;\n",
      "15 -> 35 ;\n",
      "41 [label=\"mse = 9.462\\nsamples = 4\\nvalue = 44.725\"] ;\n",
      "35 -> 41 ;\n",
      "42 [label=\"mse = 0.296\\nsamples = 10\\nvalue = 49.73\"] ;\n",
      "35 -> 42 ;\n",
      "36 [label=\"B <= 385.48\\nmse = 18.232\\nsamples = 15\\nvalue = 43.653\"] ;\n",
      "15 -> 36 ;\n",
      "39 [label=\"mse = 3.298\\nsamples = 5\\nvalue = 47.16\"] ;\n",
      "36 -> 39 ;\n",
      "40 [label=\"mse = 16.476\\nsamples = 10\\nvalue = 41.9\"] ;\n",
      "36 -> 40 ;\n",
      "16 [label=\"mse = -0.0\\nsamples = 1\\nvalue = 21.9\"] ;\n",
      "6 -> 16 ;\n",
      "}\n"
     ]
    }
   ],
   "source": [
    "model = tree.DecisionTreeRegressor(max_depth = 5,\n",
    "                                    min_samples_leaf = 1,\n",
    "                                    max_leaf_nodes = 145).fit(X, y)\n",
    "dot_data = tree.export_graphviz(model, feature_names=X.columns) \n",
    "print(dot_data)"
   ]
  },
  {
   "cell_type": "code",
   "execution_count": null,
   "id": "demonstrated-azerbaijan",
   "metadata": {},
   "outputs": [],
   "source": []
  }
 ],
 "metadata": {
  "kernelspec": {
   "display_name": "Python 3",
   "language": "python",
   "name": "python3"
  },
  "language_info": {
   "codemirror_mode": {
    "name": "ipython",
    "version": 3
   },
   "file_extension": ".py",
   "mimetype": "text/x-python",
   "name": "python",
   "nbconvert_exporter": "python",
   "pygments_lexer": "ipython3",
   "version": "3.8.5"
  }
 },
 "nbformat": 4,
 "nbformat_minor": 5
}
