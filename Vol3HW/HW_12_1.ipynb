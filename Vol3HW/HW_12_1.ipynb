{
 "cells": [
  {
   "cell_type": "code",
   "execution_count": 11,
   "id": "08928a40",
   "metadata": {},
   "outputs": [],
   "source": [
    "import numpy as np\n",
    "import matplotlib.pyplot as plt\n",
    "from scipy.stats import multivariate_normal\n",
    "from scipy.stats import multinomial"
   ]
  },
  {
   "cell_type": "code",
   "execution_count": 3,
   "id": "15f965ae",
   "metadata": {},
   "outputs": [],
   "source": [
    "def gmm(w, MUvecs, COVs, N):\n",
    "    Ks = [list(k).index(1) + 1 for k in multinomial.rvs(1, w, size=N)]    \n",
    "    f_k = lambda z, k: multivariate_normal.pdf(z, mean=MUvecs[k], cov=COVs[k])\n",
    "    Z = [f(z) for z]\n",
    "    return Z # N by d matrix"
   ]
  },
  {
   "cell_type": "code",
   "execution_count": 12,
   "id": "6db7bab8",
   "metadata": {},
   "outputs": [
    {
     "data": {
      "text/plain": [
       "[1, 2, 3]"
      ]
     },
     "execution_count": 12,
     "metadata": {},
     "output_type": "execute_result"
    }
   ],
   "source": [
    "w = [1/2, 1/3, 1/6]\n",
    "K = 3\n",
    "N = 1000\n",
    "MUvecs = np.array([[2*k for k in range(1, K+1)]])\n",
    "COVs = [k for k in range(1, K+1)]\n",
    "COVs"
   ]
  },
  {
   "cell_type": "code",
   "execution_count": 18,
   "id": "7036fc69",
   "metadata": {},
   "outputs": [
    {
     "data": {
      "text/plain": [
       "[1, 1, 1, 1, 1, 1, 3, 1, 2, 1, 3, 1, 3, 1, 2, 1, 2, 1, 3, 1]"
      ]
     },
     "execution_count": 18,
     "metadata": {},
     "output_type": "execute_result"
    }
   ],
   "source": [
    "\n",
    "Ks"
   ]
  },
  {
   "cell_type": "code",
   "execution_count": null,
   "id": "2fab1c6d",
   "metadata": {},
   "outputs": [],
   "source": []
  }
 ],
 "metadata": {
  "kernelspec": {
   "display_name": "Python 3 (ipykernel)",
   "language": "python",
   "name": "python3"
  },
  "language_info": {
   "codemirror_mode": {
    "name": "ipython",
    "version": 3
   },
   "file_extension": ".py",
   "mimetype": "text/x-python",
   "name": "python",
   "nbconvert_exporter": "python",
   "pygments_lexer": "ipython3",
   "version": "3.8.12"
  }
 },
 "nbformat": 4,
 "nbformat_minor": 5
}
