{
 "cells": [
  {
   "cell_type": "code",
   "execution_count": 9,
   "id": "1f60a090",
   "metadata": {},
   "outputs": [],
   "source": [
    "import numpy as np\n",
    "import random\n",
    "import pymc3 as pm\n",
    "import arviz as az"
   ]
  },
  {
   "cell_type": "code",
   "execution_count": 17,
   "id": "53e8e9b9",
   "metadata": {},
   "outputs": [
    {
     "name": "stdout",
     "output_type": "stream",
     "text": [
      "[0, 0, 0, 0, 0, 0, 0, 1, 1, 0, 0, 0, 1, 0, 0, 1, 0, 1, 0, 0]\n",
      "5\n"
     ]
    }
   ],
   "source": [
    "n = 20\n",
    "p = 0.3\n",
    "dataset = np.random.binomial(n, p)\n",
    "dataset = [1] * dataset + [0] * (n - dataset)\n",
    "random.shuffle(dataset)\n",
    "print(dataset)\n",
    "print(sum(dataset))"
   ]
  },
  {
   "cell_type": "code",
   "execution_count": 20,
   "id": "f93b6058",
   "metadata": {},
   "outputs": [
    {
     "name": "stderr",
     "output_type": "stream",
     "text": [
      "C:\\Users\\scarp\\AppData\\Local\\Temp/ipykernel_41136/1568397197.py:5: FutureWarning: In v4.0, pm.sample will return an `arviz.InferenceData` object instead of a `MultiTrace` by default. You can pass return_inferencedata=True or return_inferencedata=False to be safe and silence this warning.\n",
      "  trace = pm.sample(1000)\n",
      "Auto-assigning NUTS sampler...\n",
      "Initializing NUTS using jitter+adapt_diag...\n",
      "Multiprocess sampling (4 chains in 4 jobs)\n",
      "NUTS: [theta]\n"
     ]
    },
    {
     "data": {
      "text/html": [
       "\n",
       "    <div>\n",
       "        <style>\n",
       "            /* Turns off some styling */\n",
       "            progress {\n",
       "                /* gets rid of default border in Firefox and Opera. */\n",
       "                border: none;\n",
       "                /* Needs to be in here for Safari polyfill so background images work as expected. */\n",
       "                background-size: auto;\n",
       "            }\n",
       "            .progress-bar-interrupted, .progress-bar-interrupted::-webkit-progress-bar {\n",
       "                background: #F44336;\n",
       "            }\n",
       "        </style>\n",
       "      <progress value='0' class='' max='8000' style='width:300px; height:20px; vertical-align: middle;'></progress>\n",
       "      0.00% [0/8000 00:00<00:00 Sampling 4 chains, 0 divergences]\n",
       "    </div>\n",
       "    "
      ],
      "text/plain": [
       "<IPython.core.display.HTML object>"
      ]
     },
     "metadata": {},
     "output_type": "display_data"
    },
    {
     "ename": "RuntimeError",
     "evalue": "Chain 0 failed.",
     "output_type": "error",
     "traceback": [
      "\u001b[1;31m---------------------------------------------------------------------------\u001b[0m",
      "\u001b[1;31mRemoteTraceback\u001b[0m                           Traceback (most recent call last)",
      "\u001b[1;31mRemoteTraceback\u001b[0m: \n\"\"\"\nTraceback (most recent call last):\n  File \"C:\\Users\\scarp\\anaconda3\\lib\\site-packages\\theano\\link\\c\\lazylinker_c.py\", line 76, in <module>\n    raise ImportError(\nImportError: Version check of the existing lazylinker compiled file. Looking for version 0.211, but found None. Extra debug information: force_compile=False, _need_reload=True\n\nDuring handling of the above exception, another exception occurred:\n\nTraceback (most recent call last):\n  File \"C:\\Users\\scarp\\anaconda3\\lib\\site-packages\\theano\\link\\c\\lazylinker_c.py\", line 97, in <module>\n    raise ImportError(\nImportError: Version check of the existing lazylinker compiled file. Looking for version 0.211, but found None. Extra debug information: force_compile=False, _need_reload=True\n\nDuring handling of the above exception, another exception occurred:\n\nTraceback (most recent call last):\n  File \"C:\\Users\\scarp\\anaconda3\\lib\\site-packages\\pymc3\\parallel_sampling.py\", line 116, in _unpickle_step_method\n    self._step_method = pickle.loads(self._step_method)\n  File \"C:\\Users\\scarp\\anaconda3\\lib\\site-packages\\theano\\compile\\function\\types.py\", line 1165, in _constructor_Function\n    f = maker.create(input_storage, trustme=True)\n  File \"C:\\Users\\scarp\\anaconda3\\lib\\site-packages\\theano\\compile\\function\\types.py\", line 1836, in create\n    _fn, _i, _o = self.linker.make_thunk(\n  File \"C:\\Users\\scarp\\anaconda3\\lib\\site-packages\\theano\\link\\basic.py\", line 266, in make_thunk\n    return self.make_all(\n  File \"C:\\Users\\scarp\\anaconda3\\lib\\site-packages\\theano\\link\\vm.py\", line 1188, in make_all\n    vm = self.make_vm(\n  File \"C:\\Users\\scarp\\anaconda3\\lib\\site-packages\\theano\\link\\vm.py\", line 893, in make_vm\n    from theano.link.c.cvm import CVM\n  File \"C:\\Users\\scarp\\anaconda3\\lib\\site-packages\\theano\\link\\c\\cvm.py\", line 13, in <module>\n    from theano.link.c import lazylinker_c\n  File \"C:\\Users\\scarp\\anaconda3\\lib\\site-packages\\theano\\link\\c\\lazylinker_c.py\", line 137, in <module>\n    GCC_compiler.compile_str(dirname, code, location=loc, preargs=args)\n  File \"C:\\Users\\scarp\\anaconda3\\lib\\site-packages\\theano\\link\\c\\cmodule.py\", line 2546, in compile_str\n    raise Exception(\nException: Compilation failed (return status=1): C:\\Users\\scarp\\AppData\\Local\\Temp\\ccqMNCqf.o: In function `_import_array':\r. C:/Users/scarp/anaconda3/lib/site-packages/numpy/core/include/numpy/__multiarray_api.h:1476: undefined reference to `__imp_PyExc_AttributeError'\r. C:/Users/scarp/anaconda3/lib/site-packages/numpy/core/include/numpy/__multiarray_api.h:1480: undefined reference to `__imp_PyCapsule_Type'\r. C:/Users/scarp/anaconda3/lib/site-packages/numpy/core/include/numpy/__multiarray_api.h:1481: undefined reference to `__imp_PyExc_RuntimeError'\r. C:/Users/scarp/anaconda3/lib/site-packages/numpy/core/include/numpy/__multiarray_api.h:1488: undefined reference to `__imp_PyExc_RuntimeError'\r. C:/Users/scarp/anaconda3/lib/site-packages/numpy/core/include/numpy/__multiarray_api.h:1496: undefined reference to `__imp_PyExc_RuntimeError'\r. C:/Users/scarp/anaconda3/lib/site-packages/numpy/core/include/numpy/__multiarray_api.h:1502: undefined reference to `__imp_PyExc_RuntimeError'\r. C:/Users/scarp/anaconda3/lib/site-packages/numpy/core/include/numpy/__multiarray_api.h:1512: undefined reference to `__imp_PyExc_RuntimeError'\r. C:\\Users\\scarp\\AppData\\Local\\Temp\\ccqMNCqf.o:C:/Users/scarp/anaconda3/lib/site-packages/numpy/core/include/numpy/__multiarray_api.h:1524: more undefined references to `__imp_PyExc_RuntimeError' follow\r. C:\\Users\\scarp\\AppData\\Local\\Temp\\ccqMNCqf.o: In function `NpyCapsule_Check':\r. C:/Users/scarp/anaconda3/lib/site-packages/numpy/core/include/numpy/npy_3kcompat.h:577: undefined reference to `__imp_PyCapsule_Type'\r. C:\\Users\\scarp\\AppData\\Local\\Temp\\ccqMNCqf.o: In function `unpack_list_of_ssize_t':\r. C:/Users/scarp/AppData/Local/Theano/compiledir_Windows-10-10.0.22000-SP0-Intel64_Family_6_Model_158_Stepping_10_GenuineIntel-3.8.12-64/lazylinker_ext/mod.cpp:48: undefined reference to `__imp_PyExc_TypeError'\r. C:/Users/scarp/AppData/Local/Theano/compiledir_Windows-10-10.0.22000-SP0-Intel64_Family_6_Model_158_Stepping_10_GenuineIntel-3.8.12-64/lazylinker_ext/mod.cpp:58: undefined reference to `__imp_PyExc_IndexError'\r. C:\\Users\\scarp\\AppData\\Local\\Temp\\ccqMNCqf.o: In function `CLazyLinker_init':\r. C:/Users/scarp/AppData/Local/Theano/compiledir_Windows-10-10.0.22000-SP0-Intel64_Family_6_Model_158_Stepping_10_GenuineIntel-3.8.12-64/lazylinker_ext/mod.cpp:352: undefined reference to `__imp_PyExc_IndexError'\r. C:/Users/scarp/AppData/Local/Theano/compiledir_Windows-10-10.0.22000-SP0-Intel64_Family_6_Model_158_Stepping_10_GenuineIntel-3.8.12-64/lazylinker_ext/mod.cpp:370: undefined reference to `__imp_PyExc_IndexError'\r. C:/Users/scarp/AppData/Local/Theano/compiledir_Windows-10-10.0.22000-SP0-Intel64_Family_6_Model_158_Stepping_10_GenuineIntel-3.8.12-64/lazylinker_ext/mod.cpp:385: undefined reference to `__imp_PyExc_IndexError'\r. C:/Users/scarp/AppData/Local/Theano/compiledir_Windows-10-10.0.22000-SP0-Intel64_Family_6_Model_158_Stepping_10_GenuineIntel-3.8.12-64/lazylinker_ext/mod.cpp:389: undefined reference to `__imp_PyExc_IndexError'\r. C:\\Users\\scarp\\AppData\\Local\\Temp\\ccqMNCqf.o:C:/Users/scarp/AppData/Local/Theano/compiledir_Windows-10-10.0.22000-SP0-Intel64_Family_6_Model_158_Stepping_10_GenuineIntel-3.8.12-64/lazylinker_ext/mod.cpp:393: more undefined references to `__imp_PyExc_IndexError' follow\r. C:\\Users\\scarp\\AppData\\Local\\Temp\\ccqMNCqf.o: In function `CLazyLinker_init':\r. C:/Users/scarp/AppData/Local/Theano/compiledir_Windows-10-10.0.22000-SP0-Intel64_Family_6_Model_158_Stepping_10_GenuineIntel-3.8.12-64/lazylinker_ext/mod.cpp:405: undefined reference to `__imp_PyExc_TypeError'\r. C:/Users/scarp/AppData/Local/Theano/compiledir_Windows-10-10.0.22000-SP0-Intel64_Family_6_Model_158_Stepping_10_GenuineIntel-3.8.12-64/lazylinker_ext/mod.cpp:420: undefined reference to `__imp__Py_NoneStruct'\r. C:/Users/scarp/AppData/Local/Theano/compiledir_Windows-10-10.0.22000-SP0-Intel64_Family_6_Model_158_Stepping_10_GenuineIntel-3.8.12-64/lazylinker_ext/mod.cpp:426: undefined reference to `__imp_PyExc_IndexError'\r. C:/Users/scarp/AppData/Local/Theano/compiledir_Windows-10-10.0.22000-SP0-Intel64_Family_6_Model_158_Stepping_10_GenuineIntel-3.8.12-64/lazylinker_ext/mod.cpp:440: undefined reference to `__imp_PyExc_TypeError'\r. C:/Users/scarp/AppData/Local/Theano/compiledir_Windows-10-10.0.22000-SP0-Intel64_Family_6_Model_158_Stepping_10_GenuineIntel-3.8.12-64/lazylinker_ext/mod.cpp:444: undefined reference to `__imp__Py_NoneStruct'\r. C:\\Users\\scarp\\AppData\\Local\\Temp\\ccqMNCqf.o: In function `c_call':\r. C:/Users/scarp/AppData/Local/Theano/compiledir_Windows-10-10.0.22000-SP0-Intel64_Family_6_Model_158_Stepping_10_GenuineIntel-3.8.12-64/lazylinker_ext/mod.cpp:545: undefined reference to `__imp__Py_NoneStruct'\r. C:/Users/scarp/AppData/Local/Theano/compiledir_Windows-10-10.0.22000-SP0-Intel64_Family_6_Model_158_Stepping_10_GenuineIntel-3.8.12-64/lazylinker_ext/mod.cpp:545: undefined reference to `__imp__Py_NoneStruct'\r. C:/Users/scarp/AppData/Local/Theano/compiledir_Windows-10-10.0.22000-SP0-Intel64_Family_6_Model_158_Stepping_10_GenuineIntel-3.8.12-64/lazylinker_ext/mod.cpp:546: undefined reference to `__imp__Py_NoneStruct'\r. C:/Users/scarp/AppData/Local/Theano/compiledir_Windows-10-10.0.22000-SP0-Intel64_Family_6_Model_158_Stepping_10_GenuineIntel-3.8.12-64/lazylinker_ext/mod.cpp:546: undefined reference to `__imp__Py_NoneStruct'\r. C:\\Users\\scarp\\AppData\\Local\\Temp\\ccqMNCqf.o:C:/Users/scarp/AppData/Local/Theano/compiledir_Windows-10-10.0.22000-SP0-Intel64_Family_6_Model_158_Stepping_10_GenuineIntel-3.8.12-64/lazylinker_ext/mod.cpp:547: more undefined references to `__imp__Py_NoneStruct' follow\r. C:\\Users\\scarp\\AppData\\Local\\Temp\\ccqMNCqf.o: In function `lazy_rec_eval':\r. C:/Users/scarp/AppData/Local/Theano/compiledir_Windows-10-10.0.22000-SP0-Intel64_Family_6_Model_158_Stepping_10_GenuineIntel-3.8.12-64/lazylinker_ext/mod.cpp:618: undefined reference to `__imp_PyExc_IndexError'\r. C:/Users/scarp/AppData/Local/Theano/compiledir_Windows-10-10.0.22000-SP0-Intel64_Family_6_Model_158_Stepping_10_GenuineIntel-3.8.12-64/lazylinker_ext/mod.cpp:641: undefined reference to `__imp_PyExc_TypeError'\r. C:/Users/scarp/AppData/Local/Theano/compiledir_Windows-10-10.0.22000-SP0-Intel64_Family_6_Model_158_Stepping_10_GenuineIntel-3.8.12-64/lazylinker_ext/mod.cpp:649: undefined reference to `__imp_PyExc_ValueError'\r. C:/Users/scarp/AppData/Local/Theano/compiledir_Windows-10-10.0.22000-SP0-Intel64_Family_6_Model_158_Stepping_10_GenuineIntel-3.8.12-64/lazylinker_ext/mod.cpp:657: undefined reference to `__imp_PyExc_IndexError'\r. C:/Users/scarp/AppData/Local/Theano/compiledir_Windows-10-10.0.22000-SP0-Intel64_Family_6_Model_158_Stepping_10_GenuineIntel-3.8.12-64/lazylinker_ext/mod.cpp:708: undefined reference to `__imp__Py_NoneStruct'\r. C:/Users/scarp/AppData/Local/Theano/compiledir_Windows-10-10.0.22000-SP0-Intel64_Family_6_Model_158_Stepping_10_GenuineIntel-3.8.12-64/lazylinker_ext/mod.cpp:715: undefined reference to `__imp_PyExc_TypeError'\r. C:/Users/scarp/AppData/Local/Theano/compiledir_Windows-10-10.0.22000-SP0-Intel64_Family_6_Model_158_Stepping_10_GenuineIntel-3.8.12-64/lazylinker_ext/mod.cpp:721: undefined reference to `__imp_PyExc_TypeError'\r. C:/Users/scarp/AppData/Local/Theano/compiledir_Windows-10-10.0.22000-SP0-Intel64_Family_6_Model_158_Stepping_10_GenuineIntel-3.8.12-64/lazylinker_ext/mod.cpp:771: undefined reference to `__imp__Py_NoneStruct'\r. C:/Users/scarp/AppData/Local/Theano/compiledir_Windows-10-10.0.22000-SP0-Intel64_Family_6_Model_158_Stepping_10_GenuineIntel-3.8.12-64/lazylinker_ext/mod.cpp:772: undefined reference to `__imp__Py_NoneStruct'\r. C:\\Users\\scarp\\AppData\\Local\\Temp\\ccqMNCqf.o: In function `CLazyLinker_call':\r. C:/Users/scarp/AppData/Local/Theano/compiledir_Windows-10-10.0.22000-SP0-Intel64_Family_6_Model_158_Stepping_10_GenuineIntel-3.8.12-64/lazylinker_ext/mod.cpp:814: undefined reference to `__imp_PyExc_RuntimeError'\r. C:/Users/scarp/AppData/Local/Theano/compiledir_Windows-10-10.0.22000-SP0-Intel64_Family_6_Model_158_Stepping_10_GenuineIntel-3.8.12-64/lazylinker_ext/mod.cpp:826: undefined reference to `__imp_PyExc_RuntimeError'\r. C:/Users/scarp/AppData/Local/Theano/compiledir_Windows-10-10.0.22000-SP0-Intel64_Family_6_Model_158_Stepping_10_GenuineIntel-3.8.12-64/lazylinker_ext/mod.cpp:839: undefined reference to `__imp__Py_NoneStruct'\r. C:/Users/scarp/AppData/Local/Theano/compiledir_Windows-10-10.0.22000-SP0-Intel64_Family_6_Model_158_Stepping_10_GenuineIntel-3.8.12-64/lazylinker_ext/mod.cpp:840: undefined reference to `__imp__Py_NoneStruct'\r. C:/Users/scarp/AppData/Local/Theano/compiledir_Windows-10-10.0.22000-SP0-Intel64_Family_6_Model_158_Stepping_10_GenuineIntel-3.8.12-64/lazylinker_ext/mod.cpp:849: undefined reference to `__imp__Py_NoneStruct'\r. C:/Users/scarp/AppData/Local/Theano/compiledir_Windows-10-10.0.22000-SP0-Intel64_Family_6_Model_158_Stepping_10_GenuineIntel-3.8.12-64/lazylinker_ext/mod.cpp:850: undefined reference to `__imp__Py_NoneStruct'\r. C:/Users/scarp/AppData/Local/Theano/compiledir_Windows-10-10.0.22000-SP0-Intel64_Family_6_Model_158_Stepping_10_GenuineIntel-3.8.12-64/lazylinker_ext/mod.cpp:894: undefined reference to `__imp_PyExc_AssertionError'\r. C:/Users/scarp/AppData/Local/Theano/compiledir_Windows-10-10.0.22000-SP0-Intel64_Family_6_Model_158_Stepping_10_GenuineIntel-3.8.12-64/lazylinker_ext/mod.cpp:937: undefined reference to `__imp__Py_NoneStruct'\r. C:/Users/scarp/AppData/Local/Theano/compiledir_Windows-10-10.0.22000-SP0-Intel64_Family_6_Model_158_Stepping_10_GenuineIntel-3.8.12-64/lazylinker_ext/mod.cpp:938: undefined reference to `__imp__Py_NoneStruct'\r. C:\\Users\\scarp\\AppData\\Local\\Temp\\ccqMNCqf.o: In function `CLazyLinker_set_allow_gc':\r. C:/Users/scarp/AppData/Local/Theano/compiledir_Windows-10-10.0.22000-SP0-Intel64_Family_6_Model_158_Stepping_10_GenuineIntel-3.8.12-64/lazylinker_ext/mod.cpp:973: undefined reference to `__imp_PyBool_Type'\r. C:/Users/scarp/AppData/Local/Theano/compiledir_Windows-10-10.0.22000-SP0-Intel64_Family_6_Model_158_Stepping_10_GenuineIntel-3.8.12-64/lazylinker_ext/mod.cpp:976: undefined reference to `__imp__Py_TrueStruct'\r. collect2.exe: error: ld returned 1 exit status\r. \n\nDuring handling of the above exception, another exception occurred:\n\nTraceback (most recent call last):\n  File \"C:\\Users\\scarp\\anaconda3\\lib\\site-packages\\pymc3\\parallel_sampling.py\", line 135, in run\n    self._unpickle_step_method()\n  File \"C:\\Users\\scarp\\anaconda3\\lib\\site-packages\\pymc3\\parallel_sampling.py\", line 118, in _unpickle_step_method\n    raise ValueError(unpickle_error)\nValueError: The model could not be unpickled. This is required for sampling with more than one core and multiprocessing context spawn or forkserver.\n\"\"\"",
      "\nThe above exception was the direct cause of the following exception:\n",
      "\u001b[1;31mValueError\u001b[0m                                Traceback (most recent call last)",
      "\u001b[1;31mValueError\u001b[0m: The model could not be unpickled. This is required for sampling with more than one core and multiprocessing context spawn or forkserver.",
      "\nThe above exception was the direct cause of the following exception:\n",
      "\u001b[1;31mRuntimeError\u001b[0m                              Traceback (most recent call last)",
      "\u001b[1;32m~\\AppData\\Local\\Temp/ipykernel_41136/1568397197.py\u001b[0m in \u001b[0;36m<module>\u001b[1;34m\u001b[0m\n\u001b[0;32m      3\u001b[0m     \u001b[0mtheta\u001b[0m \u001b[1;33m=\u001b[0m \u001b[0mpm\u001b[0m\u001b[1;33m.\u001b[0m\u001b[0mBeta\u001b[0m\u001b[1;33m(\u001b[0m\u001b[1;34m'theta'\u001b[0m\u001b[1;33m,\u001b[0m \u001b[0malpha\u001b[0m\u001b[1;33m=\u001b[0m\u001b[1;36m1.\u001b[0m\u001b[1;33m,\u001b[0m \u001b[0mbeta\u001b[0m\u001b[1;33m=\u001b[0m\u001b[1;36m1.\u001b[0m\u001b[1;33m)\u001b[0m\u001b[1;33m\u001b[0m\u001b[1;33m\u001b[0m\u001b[0m\n\u001b[0;32m      4\u001b[0m     \u001b[0my\u001b[0m \u001b[1;33m=\u001b[0m \u001b[0mpm\u001b[0m\u001b[1;33m.\u001b[0m\u001b[0mBernoulli\u001b[0m\u001b[1;33m(\u001b[0m\u001b[1;34m'y'\u001b[0m\u001b[1;33m,\u001b[0m \u001b[0mp\u001b[0m\u001b[1;33m=\u001b[0m\u001b[0mtheta\u001b[0m\u001b[1;33m,\u001b[0m \u001b[0mobserved\u001b[0m\u001b[1;33m=\u001b[0m\u001b[0mdataset\u001b[0m\u001b[1;33m)\u001b[0m\u001b[1;33m\u001b[0m\u001b[1;33m\u001b[0m\u001b[0m\n\u001b[1;32m----> 5\u001b[1;33m     \u001b[0mtrace\u001b[0m \u001b[1;33m=\u001b[0m \u001b[0mpm\u001b[0m\u001b[1;33m.\u001b[0m\u001b[0msample\u001b[0m\u001b[1;33m(\u001b[0m\u001b[1;36m1000\u001b[0m\u001b[1;33m)\u001b[0m\u001b[1;33m\u001b[0m\u001b[1;33m\u001b[0m\u001b[0m\n\u001b[0m",
      "\u001b[1;32m~\\anaconda3\\lib\\site-packages\\pymc3\\sampling.py\u001b[0m in \u001b[0;36msample\u001b[1;34m(draws, step, init, n_init, start, trace, chain_idx, chains, cores, tune, progressbar, model, random_seed, discard_tuned_samples, compute_convergence_checks, callback, jitter_max_retries, return_inferencedata, idata_kwargs, mp_ctx, pickle_backend, **kwargs)\u001b[0m\n\u001b[0;32m    557\u001b[0m         \u001b[0m_print_step_hierarchy\u001b[0m\u001b[1;33m(\u001b[0m\u001b[0mstep\u001b[0m\u001b[1;33m)\u001b[0m\u001b[1;33m\u001b[0m\u001b[1;33m\u001b[0m\u001b[0m\n\u001b[0;32m    558\u001b[0m         \u001b[1;32mtry\u001b[0m\u001b[1;33m:\u001b[0m\u001b[1;33m\u001b[0m\u001b[1;33m\u001b[0m\u001b[0m\n\u001b[1;32m--> 559\u001b[1;33m             \u001b[0mtrace\u001b[0m \u001b[1;33m=\u001b[0m \u001b[0m_mp_sample\u001b[0m\u001b[1;33m(\u001b[0m\u001b[1;33m**\u001b[0m\u001b[0msample_args\u001b[0m\u001b[1;33m,\u001b[0m \u001b[1;33m**\u001b[0m\u001b[0mparallel_args\u001b[0m\u001b[1;33m)\u001b[0m\u001b[1;33m\u001b[0m\u001b[1;33m\u001b[0m\u001b[0m\n\u001b[0m\u001b[0;32m    560\u001b[0m         \u001b[1;32mexcept\u001b[0m \u001b[0mpickle\u001b[0m\u001b[1;33m.\u001b[0m\u001b[0mPickleError\u001b[0m\u001b[1;33m:\u001b[0m\u001b[1;33m\u001b[0m\u001b[1;33m\u001b[0m\u001b[0m\n\u001b[0;32m    561\u001b[0m             \u001b[0m_log\u001b[0m\u001b[1;33m.\u001b[0m\u001b[0mwarning\u001b[0m\u001b[1;33m(\u001b[0m\u001b[1;34m\"Could not pickle model, sampling singlethreaded.\"\u001b[0m\u001b[1;33m)\u001b[0m\u001b[1;33m\u001b[0m\u001b[1;33m\u001b[0m\u001b[0m\n",
      "\u001b[1;32m~\\anaconda3\\lib\\site-packages\\pymc3\\sampling.py\u001b[0m in \u001b[0;36m_mp_sample\u001b[1;34m(draws, tune, step, chains, cores, chain, random_seed, start, progressbar, trace, model, callback, discard_tuned_samples, mp_ctx, pickle_backend, **kwargs)\u001b[0m\n\u001b[0;32m   1475\u001b[0m         \u001b[1;32mtry\u001b[0m\u001b[1;33m:\u001b[0m\u001b[1;33m\u001b[0m\u001b[1;33m\u001b[0m\u001b[0m\n\u001b[0;32m   1476\u001b[0m             \u001b[1;32mwith\u001b[0m \u001b[0msampler\u001b[0m\u001b[1;33m:\u001b[0m\u001b[1;33m\u001b[0m\u001b[1;33m\u001b[0m\u001b[0m\n\u001b[1;32m-> 1477\u001b[1;33m                 \u001b[1;32mfor\u001b[0m \u001b[0mdraw\u001b[0m \u001b[1;32min\u001b[0m \u001b[0msampler\u001b[0m\u001b[1;33m:\u001b[0m\u001b[1;33m\u001b[0m\u001b[1;33m\u001b[0m\u001b[0m\n\u001b[0m\u001b[0;32m   1478\u001b[0m                     \u001b[0mtrace\u001b[0m \u001b[1;33m=\u001b[0m \u001b[0mtraces\u001b[0m\u001b[1;33m[\u001b[0m\u001b[0mdraw\u001b[0m\u001b[1;33m.\u001b[0m\u001b[0mchain\u001b[0m \u001b[1;33m-\u001b[0m \u001b[0mchain\u001b[0m\u001b[1;33m]\u001b[0m\u001b[1;33m\u001b[0m\u001b[1;33m\u001b[0m\u001b[0m\n\u001b[0;32m   1479\u001b[0m                     \u001b[1;32mif\u001b[0m \u001b[0mtrace\u001b[0m\u001b[1;33m.\u001b[0m\u001b[0msupports_sampler_stats\u001b[0m \u001b[1;32mand\u001b[0m \u001b[0mdraw\u001b[0m\u001b[1;33m.\u001b[0m\u001b[0mstats\u001b[0m \u001b[1;32mis\u001b[0m \u001b[1;32mnot\u001b[0m \u001b[1;32mNone\u001b[0m\u001b[1;33m:\u001b[0m\u001b[1;33m\u001b[0m\u001b[1;33m\u001b[0m\u001b[0m\n",
      "\u001b[1;32m~\\anaconda3\\lib\\site-packages\\pymc3\\parallel_sampling.py\u001b[0m in \u001b[0;36m__iter__\u001b[1;34m(self)\u001b[0m\n\u001b[0;32m    477\u001b[0m \u001b[1;33m\u001b[0m\u001b[0m\n\u001b[0;32m    478\u001b[0m         \u001b[1;32mwhile\u001b[0m \u001b[0mself\u001b[0m\u001b[1;33m.\u001b[0m\u001b[0m_active\u001b[0m\u001b[1;33m:\u001b[0m\u001b[1;33m\u001b[0m\u001b[1;33m\u001b[0m\u001b[0m\n\u001b[1;32m--> 479\u001b[1;33m             \u001b[0mdraw\u001b[0m \u001b[1;33m=\u001b[0m \u001b[0mProcessAdapter\u001b[0m\u001b[1;33m.\u001b[0m\u001b[0mrecv_draw\u001b[0m\u001b[1;33m(\u001b[0m\u001b[0mself\u001b[0m\u001b[1;33m.\u001b[0m\u001b[0m_active\u001b[0m\u001b[1;33m)\u001b[0m\u001b[1;33m\u001b[0m\u001b[1;33m\u001b[0m\u001b[0m\n\u001b[0m\u001b[0;32m    480\u001b[0m             \u001b[0mproc\u001b[0m\u001b[1;33m,\u001b[0m \u001b[0mis_last\u001b[0m\u001b[1;33m,\u001b[0m \u001b[0mdraw\u001b[0m\u001b[1;33m,\u001b[0m \u001b[0mtuning\u001b[0m\u001b[1;33m,\u001b[0m \u001b[0mstats\u001b[0m\u001b[1;33m,\u001b[0m \u001b[0mwarns\u001b[0m \u001b[1;33m=\u001b[0m \u001b[0mdraw\u001b[0m\u001b[1;33m\u001b[0m\u001b[1;33m\u001b[0m\u001b[0m\n\u001b[0;32m    481\u001b[0m             \u001b[0mself\u001b[0m\u001b[1;33m.\u001b[0m\u001b[0m_total_draws\u001b[0m \u001b[1;33m+=\u001b[0m \u001b[1;36m1\u001b[0m\u001b[1;33m\u001b[0m\u001b[1;33m\u001b[0m\u001b[0m\n",
      "\u001b[1;32m~\\anaconda3\\lib\\site-packages\\pymc3\\parallel_sampling.py\u001b[0m in \u001b[0;36mrecv_draw\u001b[1;34m(processes, timeout)\u001b[0m\n\u001b[0;32m    357\u001b[0m             \u001b[1;32melse\u001b[0m\u001b[1;33m:\u001b[0m\u001b[1;33m\u001b[0m\u001b[1;33m\u001b[0m\u001b[0m\n\u001b[0;32m    358\u001b[0m                 \u001b[0merror\u001b[0m \u001b[1;33m=\u001b[0m \u001b[0mRuntimeError\u001b[0m\u001b[1;33m(\u001b[0m\u001b[1;34m\"Chain %s failed.\"\u001b[0m \u001b[1;33m%\u001b[0m \u001b[0mproc\u001b[0m\u001b[1;33m.\u001b[0m\u001b[0mchain\u001b[0m\u001b[1;33m)\u001b[0m\u001b[1;33m\u001b[0m\u001b[1;33m\u001b[0m\u001b[0m\n\u001b[1;32m--> 359\u001b[1;33m             \u001b[1;32mraise\u001b[0m \u001b[0merror\u001b[0m \u001b[1;32mfrom\u001b[0m \u001b[0mold_error\u001b[0m\u001b[1;33m\u001b[0m\u001b[1;33m\u001b[0m\u001b[0m\n\u001b[0m\u001b[0;32m    360\u001b[0m         \u001b[1;32melif\u001b[0m \u001b[0mmsg\u001b[0m\u001b[1;33m[\u001b[0m\u001b[1;36m0\u001b[0m\u001b[1;33m]\u001b[0m \u001b[1;33m==\u001b[0m \u001b[1;34m\"writing_done\"\u001b[0m\u001b[1;33m:\u001b[0m\u001b[1;33m\u001b[0m\u001b[1;33m\u001b[0m\u001b[0m\n\u001b[0;32m    361\u001b[0m             \u001b[0mproc\u001b[0m\u001b[1;33m.\u001b[0m\u001b[0m_readable\u001b[0m \u001b[1;33m=\u001b[0m \u001b[1;32mTrue\u001b[0m\u001b[1;33m\u001b[0m\u001b[1;33m\u001b[0m\u001b[0m\n",
      "\u001b[1;31mRuntimeError\u001b[0m: Chain 0 failed."
     ]
    }
   ],
   "source": [
    "bern_model = pm.Model()\n",
    "with bern_model:\n",
    "    theta = pm.Beta('theta', alpha=1., beta=1.)\n",
    "    y = pm.Bernoulli('y', p=theta, observed=dataset)\n",
    "    trace = pm.sample(1000)"
   ]
  },
  {
   "cell_type": "code",
   "execution_count": 21,
   "id": "a9e9fd32",
   "metadata": {},
   "outputs": [
    {
     "ename": "NameError",
     "evalue": "name 'trace' is not defined",
     "output_type": "error",
     "traceback": [
      "\u001b[1;31m---------------------------------------------------------------------------\u001b[0m",
      "\u001b[1;31mNameError\u001b[0m                                 Traceback (most recent call last)",
      "\u001b[1;32m~\\AppData\\Local\\Temp/ipykernel_41136/222726848.py\u001b[0m in \u001b[0;36m<module>\u001b[1;34m\u001b[0m\n\u001b[0;32m      1\u001b[0m \u001b[1;32mwith\u001b[0m \u001b[0mbern_model\u001b[0m\u001b[1;33m:\u001b[0m\u001b[1;33m\u001b[0m\u001b[1;33m\u001b[0m\u001b[0m\n\u001b[1;32m----> 2\u001b[1;33m     \u001b[0maz\u001b[0m\u001b[1;33m.\u001b[0m\u001b[0mplot_trace\u001b[0m\u001b[1;33m(\u001b[0m\u001b[0mtrace\u001b[0m\u001b[1;33m)\u001b[0m\u001b[1;33m\u001b[0m\u001b[1;33m\u001b[0m\u001b[0m\n\u001b[0m",
      "\u001b[1;31mNameError\u001b[0m: name 'trace' is not defined"
     ]
    }
   ],
   "source": [
    "with bern_model:\n",
    "    az.plot_trace(trace)"
   ]
  },
  {
   "cell_type": "code",
   "execution_count": 22,
   "id": "ab2702bd",
   "metadata": {},
   "outputs": [
    {
     "ename": "NameError",
     "evalue": "name 'trace' is not defined",
     "output_type": "error",
     "traceback": [
      "\u001b[1;31m---------------------------------------------------------------------------\u001b[0m",
      "\u001b[1;31mNameError\u001b[0m                                 Traceback (most recent call last)",
      "\u001b[1;32m~\\AppData\\Local\\Temp/ipykernel_41136/1841446723.py\u001b[0m in \u001b[0;36m<module>\u001b[1;34m\u001b[0m\n\u001b[0;32m      1\u001b[0m \u001b[1;32mwith\u001b[0m \u001b[0mbern_model\u001b[0m\u001b[1;33m:\u001b[0m\u001b[1;33m\u001b[0m\u001b[1;33m\u001b[0m\u001b[0m\n\u001b[1;32m----> 2\u001b[1;33m     \u001b[0mtheta\u001b[0m \u001b[1;33m=\u001b[0m \u001b[0mtrace\u001b[0m\u001b[1;33m[\u001b[0m\u001b[1;34m'theta'\u001b[0m\u001b[1;33m]\u001b[0m\u001b[1;33m\u001b[0m\u001b[1;33m\u001b[0m\u001b[0m\n\u001b[0m\u001b[0;32m      3\u001b[0m \u001b[1;33m\u001b[0m\u001b[0m\n\u001b[0;32m      4\u001b[0m \u001b[0msample_h\u001b[0m \u001b[1;33m=\u001b[0m \u001b[1;33m[\u001b[0m\u001b[0mrandom\u001b[0m\u001b[1;33m.\u001b[0m\u001b[0mrandom\u001b[0m\u001b[1;33m(\u001b[0m\u001b[1;33m)\u001b[0m \u001b[1;33m<\u001b[0m \u001b[0mt\u001b[0m \u001b[1;32mfor\u001b[0m \u001b[0mt\u001b[0m \u001b[1;32min\u001b[0m \u001b[0mtheta\u001b[0m\u001b[1;33m]\u001b[0m\u001b[1;33m\u001b[0m\u001b[1;33m\u001b[0m\u001b[0m\n\u001b[0;32m      5\u001b[0m \u001b[0mprint\u001b[0m\u001b[1;33m(\u001b[0m\u001b[0msum\u001b[0m\u001b[1;33m(\u001b[0m\u001b[0msample_h\u001b[0m\u001b[1;33m)\u001b[0m\u001b[1;33m)\u001b[0m\u001b[1;33m\u001b[0m\u001b[1;33m\u001b[0m\u001b[0m\n",
      "\u001b[1;31mNameError\u001b[0m: name 'trace' is not defined"
     ]
    }
   ],
   "source": [
    "with bern_model:\n",
    "    theta = trace['theta']\n",
    "\n",
    "sample_h = [random.random() < t for t in theta]\n",
    "print(sum(sample_h))"
   ]
  },
  {
   "cell_type": "code",
   "execution_count": null,
   "id": "698d0cb2",
   "metadata": {},
   "outputs": [],
   "source": []
  }
 ],
 "metadata": {
  "kernelspec": {
   "display_name": "Python 3 (ipykernel)",
   "language": "python",
   "name": "python3"
  },
  "language_info": {
   "codemirror_mode": {
    "name": "ipython",
    "version": 3
   },
   "file_extension": ".py",
   "mimetype": "text/x-python",
   "name": "python",
   "nbconvert_exporter": "python",
   "pygments_lexer": "ipython3",
   "version": "3.8.12"
  }
 },
 "nbformat": 4,
 "nbformat_minor": 5
}
