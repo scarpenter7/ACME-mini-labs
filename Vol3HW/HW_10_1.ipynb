{
 "cells": [
  {
   "cell_type": "code",
   "execution_count": 1,
   "id": "fd16f30d",
   "metadata": {},
   "outputs": [],
   "source": [
    "import numpy as np\n",
    "import random\n",
    "import scipy.stats as stats\n",
    "from scipy.stats import beta\n",
    "import time\n",
    "from math import comb\n",
    "from matplotlib import pyplot as plt"
   ]
  },
  {
   "cell_type": "code",
   "execution_count": 2,
   "id": "db3f9890",
   "metadata": {},
   "outputs": [
    {
     "name": "stdout",
     "output_type": "stream",
     "text": [
      "1 1\n",
      "area: 0.39857585919987687\n",
      "standard error: 0.009031956586218155\n",
      "\n",
      "1 2\n",
      "area: 0.4025670585877877\n",
      "standard error: 0.007361840477328686\n",
      "\n",
      "1 3\n",
      "area: 0.4016607769585918\n",
      "standard error: 0.006041631429802475\n",
      "\n",
      "1 4\n",
      "area: 0.3991595687433921\n",
      "standard error: 0.005036971008317475\n",
      "\n",
      "1 5\n",
      "area: 0.3993425990412429\n",
      "standard error: 0.00440317770851231\n",
      "\n",
      "5 1\n",
      "area: 0.20974024811156727\n",
      "standard error: 0.004387605084176968\n",
      "\n",
      "0.004387605084176968\n",
      "(5, 1)\n",
      "0.20974024811156727\n"
     ]
    }
   ],
   "source": [
    "n = int(10e3)\n",
    "\n",
    "h = lambda x: 1/(x**3 + 2*x + 3)\n",
    "f = lambda x, a, b: beta.pdf(x, a, b)\n",
    "\n",
    "lowest_se = -1\n",
    "best_ab = (-1, -1)\n",
    "best_area = 0\n",
    "\n",
    "for a in range(1, 6):\n",
    "    for b in range(1, 6):\n",
    "        sample = np.random.beta(a, b, size=n) * np.pi\n",
    "        area = np.mean([(h(s))/(f(s/np.pi, a, b)) for s in sample]) * np.pi\n",
    "        standard_error = stats.sem(sample)\n",
    "        \n",
    "        if lowest_se == -1 or standard_error < lowest_se:\n",
    "            print(a, b)\n",
    "            print(\"area: \" + str(area))\n",
    "            print(\"standard error: \" + str(standard_error))\n",
    "            print()\n",
    "            lowest_se = standard_error\n",
    "            best_ab = (a, b)\n",
    "            best_area = area\n",
    "            \n",
    "\n",
    "print(lowest_se)\n",
    "print(best_ab)\n",
    "print(best_area)"
   ]
  },
  {
   "cell_type": "code",
   "execution_count": 3,
   "id": "d2e0c1c8",
   "metadata": {},
   "outputs": [
    {
     "name": "stdout",
     "output_type": "stream",
     "text": [
      "[0 1 2 3 4 5 6 7 8 9]\n",
      "[0 1 2 3 4 5 0 0 0 0]\n"
     ]
    }
   ],
   "source": [
    "arr = np.arange(10)\n",
    "print(arr)\n",
    "arr[arr > 5] = 0\n",
    "print(arr)"
   ]
  },
  {
   "cell_type": "code",
   "execution_count": 8,
   "id": "21b0f35f",
   "metadata": {},
   "outputs": [],
   "source": [
    "n = 1000\n",
    "p = 0.3\n",
    "\n",
    "def cdf(x, p):\n",
    "    if x < 0:\n",
    "        return 0\n",
    "    elif x >= 0 and x < 1:\n",
    "        return 1 - p\n",
    "    else:\n",
    "        return 1\n",
    "        \n",
    "g = lambda u, A: min([a for a in A if u <= cdf(a, p)])\n"
   ]
  },
  {
   "cell_type": "code",
   "execution_count": 12,
   "id": "f7884ec1",
   "metadata": {},
   "outputs": [
    {
     "name": "stdout",
     "output_type": "stream",
     "text": [
      "0.312\n"
     ]
    }
   ],
   "source": [
    "import random\n",
    "sample = [random.random() for _ in range(n)]\n",
    "A = [0, 1]\n",
    "draws = [g(s, A) for s in sample]\n",
    "print(np.mean(draws))"
   ]
  },
  {
   "cell_type": "code",
   "execution_count": 26,
   "id": "758ababb",
   "metadata": {},
   "outputs": [
    {
     "name": "stdout",
     "output_type": "stream",
     "text": [
      "0.0019998550415039062\n",
      "[2, 3, 5, 2, 4, 3, 0, 4, 4, 0, 6, 4, 5, 3, 3, 3, 3, 2, 2, 4, 2, 5, 4, 4, 1, 2, 4, 3, 1, 1, 1, 3, 3, 3, 3, 5, 3, 2, 4, 4, 3, 4, 1, 5, 5, 4, 3, 4, 5, 3, 4, 2, 0, 1, 2, 5, 5, 3, 4, 3, 4, 3, 8, 3, 2, 2, 4, 5, 3, 2, 5, 3, 5, 5, 1, 5, 3, 2, 4, 2, 3, 3, 3, 4, 2, 2, 2, 3, 3, 3, 1, 2, 2, 3, 3, 5, 2, 3, 4, 4, 5, 2, 5, 0, 4, 3, 2, 2, 4, 3, 5, 3, 4, 4, 2, 3, 1, 4, 3, 4, 2, 4, 2, 3, 3, 2, 1, 0, 2, 1, 3, 2, 2, 3, 4, 5, 4, 3, 1, 3, 4, 2, 3, 1, 1, 1, 0, 3, 4, 4, 4, 3, 4, 1, 1, 6, 4, 3, 2, 2, 3, 2, 4, 3, 6, 2, 7, 4, 1, 5, 5, 4, 2, 1, 5, 3, 2, 1, 5, 1, 3, 5, 4, 5, 3, 3, 2, 0, 2, 2, 4, 5, 6, 2, 3, 4, 2, 1, 5, 4, 3, 1, 3, 3, 4, 2, 3, 3, 6, 3, 3, 4, 3, 5, 3, 4, 3, 3, 4, 3, 5, 4, 3, 5, 4, 2, 1, 1, 3, 3, 5, 2, 2, 2, 3, 2, 6, 2, 4, 1, 0, 5, 2, 4, 2, 4, 0, 3, 2, 4, 2, 4, 4, 1, 2, 4, 3, 4, 6, 4, 2, 3, 2, 2, 3, 5, 2, 3, 4, 3, 1, 4, 5, 4, 4, 5, 1, 3, 2, 5, 2, 1, 5, 3, 2, 5, 5, 5, 2, 1, 7, 4, 2, 5, 5, 1, 4, 5, 4, 2, 6, 3, 1, 3, 3, 2, 3, 2, 5, 3, 6, 1, 1, 2, 3, 4, 5, 1, 3, 3, 2, 2, 3, 6, 0, 1, 1, 3, 4, 1, 4, 3, 1, 4, 2, 3, 3, 3, 2, 4, 2, 3, 4, 3, 7, 7, 3, 3, 2, 4, 3, 3, 1, 5, 1, 3, 1, 4, 3, 5, 3, 2, 3, 5, 4, 5, 3, 3, 4, 2, 3, 3, 3, 2, 4, 2, 3, 4, 3, 3, 3, 4, 1, 1, 3, 4, 3, 4, 4, 2, 4, 3, 1, 2, 5, 5, 2, 2, 5, 6, 2, 0, 2, 5, 4, 6, 1, 4, 2, 5, 4, 1, 1, 4, 4, 5, 7, 2, 4, 5, 4, 2, 3, 3, 1, 1, 4, 4, 2, 1, 0, 2, 5, 4, 3, 6, 2, 1, 3, 3, 5, 2, 2, 1, 3, 2, 5, 4, 2, 4, 4, 1, 2, 4, 1, 5, 2, 3, 2, 2, 3, 8, 4, 3, 1, 3, 4, 4, 6, 0, 3, 3, 3, 4, 4, 3, 4, 2, 2, 2, 2, 3, 2, 1, 2, 3, 3, 3, 5, 2, 5, 2, 1, 3, 3, 3, 3, 4, 3, 1, 3, 2, 2, 3, 2, 4, 3, 8, 4, 2, 2, 3, 1, 3, 1, 3, 4, 1, 3, 4, 1, 4, 3, 3, 3, 2, 3, 6, 6, 4, 2, 2, 2, 5, 2, 4, 3, 3, 2, 2, 5, 5, 5, 5, 3, 3, 2, 1, 5, 3, 2, 2, 2, 1, 4, 3, 5, 2, 5, 4, 4, 2, 3, 3, 4, 2, 2, 2, 2, 4, 1, 3, 4, 4, 4, 2, 5, 1, 3, 4, 5, 5, 2, 3, 4, 4, 2, 6, 2, 1, 4, 5, 1, 2, 4, 4, 1, 2, 3, 2, 4, 3, 2, 3, 3, 4, 4, 3, 2, 4, 4, 1, 2, 4, 3, 2, 5, 3, 4, 5, 3, 3, 6, 1, 5, 4, 1, 3, 2, 4, 1, 2, 4, 3, 2, 5, 7, 5, 4, 5, 3, 0, 4, 1, 3, 2, 5, 5, 4, 5, 1, 4, 5, 1, 6, 3, 6, 2, 4, 1, 4, 4, 2, 2, 2, 4, 5, 1, 3, 3, 2, 4, 3, 3, 5, 2, 3, 1, 1, 3, 0, 4, 4, 0, 3, 4, 4, 2, 2, 3, 3, 3, 0, 1, 5, 4, 3, 3, 3, 1, 3, 4, 5, 3, 2, 3, 3, 1, 3, 3, 4, 5, 2, 4, 1, 2, 3, 1, 4, 6, 5, 2, 4, 1, 4, 2, 1, 2, 5, 3, 2, 4, 0, 5, 2, 5, 3, 3, 2, 3, 5, 3, 6, 4, 3, 4, 3, 5, 2, 2, 2, 4, 7, 3, 6, 2, 4, 4, 2, 5, 2, 2, 2, 3, 4, 2, 2, 3, 3, 4, 3, 3, 2, 2, 6, 4, 7, 3, 2, 2, 4, 2, 3, 1, 1, 6, 5, 2, 4, 1, 2, 2, 1, 4, 0, 3, 3, 2, 5, 1, 2, 3, 2, 3, 2, 2, 6, 5, 4, 5, 5, 5, 6, 5, 2, 3, 4, 3, 3, 3, 0, 2, 4, 2, 3, 0, 2, 2, 4, 5, 4, 1, 6, 2, 3, 3, 6, 5, 4, 5, 3, 3, 2, 3, 2, 4, 2, 0, 3, 4, 2, 2, 7, 2, 3, 2, 0, 5, 5, 8, 4, 2, 3, 4, 4, 3, 2, 3, 3, 3, 4, 4, 3, 6, 5, 5, 3, 3, 1, 4, 2, 0, 5, 4, 2, 3, 2, 5, 4, 2, 4, 5, 0, 0, 5, 2, 1, 2, 5, 4, 3, 3, 5, 0, 2, 4, 0, 5, 6, 6, 2, 5, 1, 3, 2, 2, 3, 2, 3, 5, 2, 3, 4, 2, 6, 5, 5, 0, 0, 4, 3, 6, 3, 1, 3, 2, 5, 4, 5, 5, 1, 5, 3, 4, 2, 2, 4, 3, 6, 3, 1, 2, 1, 0, 3, 4, 5, 6, 3, 5, 4, 5, 4, 2, 1, 5, 3, 2, 2, 6, 4, 4, 5, 2, 3, 2, 3, 4, 4, 2, 5, 4, 3, 4, 6, 5, 2, 4, 3, 3, 4, 3, 4, 4, 6, 5, 5, 3, 4, 3]\n"
     ]
    }
   ],
   "source": [
    "\n",
    "k = 10\n",
    "samples = []\n",
    "start = time.time()\n",
    "for _ in range(1000):\n",
    "    sample = [random.random() < p for _ in range(k)]\n",
    "    samples.append(sum(sample))\n",
    "end = time.time()\n",
    "print(end - start)\n",
    "print(samples)"
   ]
  },
  {
   "cell_type": "code",
   "execution_count": 43,
   "id": "9b2cdfc4",
   "metadata": {},
   "outputs": [],
   "source": [
    "def cdf_binom(x, p, k):\n",
    "    return sum([comb(k, i)*(p**i)*(1-p)**(k-i) for i in range(x + 1)])\n",
    "\n",
    "g = lambda u, A: min([a for a in A if u <= cdf_binom(a, p, k)])"
   ]
  },
  {
   "cell_type": "code",
   "execution_count": 45,
   "id": "0b9aed61",
   "metadata": {},
   "outputs": [
    {
     "name": "stdout",
     "output_type": "stream",
     "text": [
      "0.04603314399719238\n",
      "[4, 1, 2, 3, 2, 2, 4, 0, 2, 1, 1, 1, 4, 2, 3, 1, 3, 1, 4, 1, 4, 2, 3, 3, 2, 1, 4, 2, 2, 4, 1, 2, 4, 4, 4, 2, 5, 3, 1, 4, 4, 3, 3, 4, 5, 4, 5, 3, 4, 4, 1, 2, 3, 2, 3, 4, 7, 4, 3, 2, 3, 5, 6, 3, 4, 1, 4, 3, 2, 3, 2, 5, 2, 4, 4, 2, 4, 3, 3, 4, 3, 2, 3, 5, 3, 4, 2, 2, 3, 4, 3, 5, 4, 3, 7, 2, 3, 3, 1, 3, 1, 1, 3, 2, 2, 4, 2, 0, 3, 4, 1, 5, 3, 2, 5, 5, 3, 3, 1, 2, 3, 0, 4, 1, 6, 4, 2, 4, 2, 4, 3, 5, 4, 0, 2, 2, 3, 3, 1, 5, 6, 3, 2, 4, 3, 2, 4, 2, 3, 2, 3, 1, 4, 4, 5, 4, 3, 1, 6, 3, 3, 3, 3, 1, 4, 2, 3, 3, 2, 3, 4, 2, 3, 2, 2, 5, 2, 5, 2, 3, 2, 1, 5, 7, 4, 1, 1, 3, 4, 5, 3, 5, 5, 3, 4, 2, 1, 6, 0, 4, 4, 1, 5, 2, 3, 2, 3, 2, 4, 6, 4, 3, 5, 3, 2, 4, 3, 3, 4, 2, 3, 2, 3, 4, 4, 2, 2, 3, 2, 2, 4, 3, 3, 3, 2, 4, 5, 1, 3, 1, 3, 5, 5, 6, 4, 3, 6, 2, 4, 3, 4, 4, 4, 1, 2, 5, 3, 5, 1, 3, 1, 5, 4, 3, 2, 5, 3, 5, 4, 2, 1, 5, 3, 4, 5, 4, 4, 4, 4, 3, 4, 2, 2, 3, 3, 2, 4, 3, 4, 4, 4, 4, 3, 4, 3, 0, 1, 1, 1, 1, 3, 3, 5, 3, 3, 3, 1, 5, 2, 1, 3, 4, 2, 4, 3, 2, 3, 5, 3, 3, 2, 4, 6, 1, 5, 2, 3, 3, 2, 1, 4, 5, 7, 5, 1, 2, 0, 3, 4, 4, 3, 0, 5, 7, 2, 4, 3, 5, 4, 2, 5, 3, 2, 1, 2, 3, 4, 2, 1, 4, 6, 5, 3, 0, 3, 4, 4, 3, 3, 5, 4, 4, 3, 3, 3, 5, 7, 3, 5, 4, 3, 3, 4, 4, 2, 2, 3, 1, 3, 5, 5, 1, 4, 3, 3, 3, 2, 2, 4, 2, 3, 4, 3, 5, 1, 4, 3, 1, 1, 3, 3, 2, 2, 2, 4, 2, 2, 3, 3, 3, 3, 5, 1, 4, 3, 1, 1, 5, 5, 4, 2, 2, 3, 2, 2, 1, 6, 5, 3, 1, 2, 2, 3, 3, 3, 4, 3, 1, 3, 1, 5, 3, 3, 0, 2, 4, 3, 6, 2, 3, 2, 3, 5, 5, 3, 1, 2, 5, 2, 1, 3, 4, 4, 2, 2, 5, 3, 1, 3, 2, 4, 3, 2, 2, 3, 2, 2, 3, 3, 3, 3, 6, 4, 4, 3, 3, 3, 3, 4, 1, 3, 4, 5, 2, 5, 5, 3, 2, 5, 6, 0, 4, 4, 2, 8, 2, 6, 3, 1, 4, 4, 3, 1, 2, 2, 5, 2, 3, 3, 4, 3, 2, 5, 3, 6, 2, 4, 2, 4, 1, 3, 2, 2, 3, 6, 0, 2, 4, 4, 1, 3, 3, 1, 4, 2, 3, 4, 2, 4, 5, 4, 3, 2, 3, 2, 3, 5, 3, 1, 2, 1, 3, 2, 1, 3, 3, 3, 4, 2, 4, 5, 1, 4, 0, 3, 0, 3, 2, 3, 4, 4, 3, 3, 4, 4, 3, 1, 3, 4, 1, 4, 3, 0, 6, 4, 3, 1, 6, 1, 3, 4, 3, 2, 3, 5, 5, 2, 3, 3, 3, 2, 2, 2, 4, 3, 4, 2, 4, 5, 5, 3, 5, 4, 4, 4, 6, 2, 2, 3, 6, 4, 2, 3, 4, 3, 6, 1, 3, 3, 1, 3, 3, 5, 2, 7, 3, 4, 1, 2, 2, 5, 5, 4, 2, 5, 3, 3, 3, 4, 4, 3, 5, 1, 0, 3, 4, 2, 2, 7, 4, 3, 4, 3, 3, 1, 1, 3, 3, 2, 3, 3, 4, 3, 3, 2, 2, 6, 4, 3, 4, 3, 2, 6, 1, 2, 3, 2, 2, 3, 5, 2, 3, 2, 1, 2, 3, 2, 2, 5, 1, 2, 1, 3, 2, 2, 2, 1, 1, 3, 4, 4, 4, 5, 3, 5, 3, 3, 3, 2, 3, 3, 1, 3, 1, 3, 5, 2, 2, 5, 2, 3, 2, 4, 2, 1, 4, 1, 4, 4, 3, 4, 3, 1, 2, 3, 4, 6, 2, 1, 3, 4, 3, 3, 4, 3, 4, 0, 1, 0, 6, 6, 6, 2, 1, 2, 2, 1, 4, 4, 5, 2, 4, 1, 3, 1, 6, 3, 4, 5, 2, 5, 3, 1, 4, 3, 3, 4, 4, 5, 2, 2, 1, 4, 4, 2, 4, 5, 3, 2, 3, 3, 4, 3, 3, 1, 4, 5, 4, 4, 0, 0, 4, 4, 1, 3, 1, 3, 3, 2, 5, 3, 4, 2, 4, 2, 4, 3, 3, 3, 1, 1, 1, 3, 4, 1, 1, 3, 5, 3, 4, 3, 4, 3, 3, 2, 0, 5, 5, 3, 3, 2, 4, 2, 2, 4, 2, 0, 5, 2, 2, 2, 3, 4, 1, 4, 2, 2, 4, 2, 4, 2, 3, 1, 3, 4, 3, 4, 4, 4, 2, 3, 6, 3, 3, 5, 4, 3, 3, 3, 2, 2, 1, 3, 3, 1, 5, 2, 1, 3, 3, 4, 2, 2, 2, 1, 5, 1, 4, 5, 3, 2, 1, 5, 5, 5, 5, 4, 5, 3, 3, 3, 3, 1, 5, 2, 4, 2, 1, 2, 2, 4, 1, 1, 3, 2, 2, 2, 2, 1, 2, 2, 7, 3, 2, 5, 3, 3, 2, 2, 1, 1, 8, 4, 3, 4, 5, 5, 4, 2, 3, 1, 7, 3, 4, 5, 2, 6, 1, 1, 2, 3, 4, 3, 1, 2, 3, 4, 5, 6, 5]\n"
     ]
    }
   ],
   "source": [
    "start = time.time()\n",
    "sample = [random.random() for _ in range(n)]\n",
    "A = list(range(k + 1))\n",
    "\n",
    "draws = [g(s, A) for s in sample]\n",
    "\n",
    "end = time.time()\n",
    "print(end - start)\n",
    "print(draws)"
   ]
  },
  {
   "cell_type": "code",
   "execution_count": 64,
   "id": "f7d55243",
   "metadata": {},
   "outputs": [
    {
     "data": {
      "image/png": "[encoded data removed]",
      "text/plain": [
       "<Figure size 432x288 with 1 Axes>"
      ]
     },
     "metadata": {
      "needs_background": "light"
     },
     "output_type": "display_data"
    }
   ],
   "source": [
    "plt.hist(draws, bins= list(range(11)), align=\"left\")\n",
    "plt.show()"
   ]
  },
  {
   "cell_type": "code",
   "execution_count": 51,
   "id": "0178702f",
   "metadata": {},
   "outputs": [
    {
     "name": "stdout",
     "output_type": "stream",
     "text": [
      "{0: 31, 1: 103, 2: 221, 3: 255, 4: 204, 5: 134, 6: 39, 7: 9, 8: 4}\n"
     ]
    }
   ],
   "source": [
    "d = {i: len([j for j in samples if j == i]) for i in set(draws)}\n",
    "print(d)"
   ]
  },
  {
   "cell_type": "code",
   "execution_count": 65,
   "id": "cbcae2df",
   "metadata": {},
   "outputs": [
    {
     "data": {
      "image/png": "[encoded data removed]",
      "text/plain": [
       "<Figure size 432x288 with 1 Axes>"
      ]
     },
     "metadata": {
      "needs_background": "light"
     },
     "output_type": "display_data"
    }
   ],
   "source": [
    "plt.hist(samples, bins= list(range(11)), align=\"left\")\n",
    "plt.show()"
   ]
  },
  {
   "cell_type": "code",
   "execution_count": 66,
   "id": "e48c79c1",
   "metadata": {},
   "outputs": [
    {
     "name": "stdout",
     "output_type": "stream",
     "text": [
      "{0: 31, 1: 103, 2: 221, 3: 255, 4: 204, 5: 134, 6: 39, 7: 9, 8: 4}\n"
     ]
    }
   ],
   "source": [
    "d = {i: len([j for j in samples if j == i]) for i in set(samples)}\n",
    "print(d)"
   ]
  },
  {
   "cell_type": "code",
   "execution_count": 59,
   "id": "cc996eab",
   "metadata": {},
   "outputs": [
    {
     "name": "stdout",
     "output_type": "stream",
     "text": [
      "5.331032752990723\n"
     ]
    },
    {
     "data": {
      "image/png": "[encoded data removed]",
      "text/plain": [
       "<Figure size 432x288 with 1 Axes>"
      ]
     },
     "metadata": {
      "needs_background": "light"
     },
     "output_type": "display_data"
    }
   ],
   "source": [
    "from scipy.stats import nbinom\n",
    "\n",
    "\"\"\"def cdf_neg_binom(s, f, p):\n",
    "    if s == 0:\n",
    "        return (1-p)**f\n",
    "    res = p**s\n",
    "    res *= sum([comb(s + j - 1, s - 1)*(1 - p)**(j) for j in range(f + 1)])\n",
    "    #print(res)\n",
    "    return res\"\"\"\n",
    "\n",
    "g = lambda u, A: min([s for s in A if u <= nbinom.cdf(s, f, p)])\n",
    "\n",
    "f = 5\n",
    "p = 0.4\n",
    "\n",
    "sample = [random.random() for _ in range(1000)]\n",
    "A = list(range(int(50)))\n",
    "\n",
    "draws = [g(pt, A) for pt in sample]\n",
    "bins = max(draws)\n",
    "\n",
    "pmf = lambda s, f, p: comb(s+f-1, s) * (1-p)**s * p**f\n",
    "lin = np.linspace(0, bins, bins + 1)\n",
    "\n",
    "plt.hist(draws, bins= list(range(bins + 1)), align=\"left\", density=True)\n",
    "plt.plot(lin, [pmf(int(l), f, p) for l in lin])\n",
    "\n",
    "plt.show()"
   ]
  },
  {
   "cell_type": "code",
   "execution_count": 89,
   "id": "7749d526",
   "metadata": {},
   "outputs": [
    {
     "name": "stdout",
     "output_type": "stream",
     "text": [
      "3.5496467783038432\n"
     ]
    }
   ],
   "source": [
    "integral = lambda x: -np.exp(x)*(x**2 - 3*x + 3)\n",
    "integral_const = 1/(integral(1) - integral(0))\n",
    "print(integral_const)"
   ]
  },
  {
   "cell_type": "code",
   "execution_count": 121,
   "id": "e25baacf",
   "metadata": {},
   "outputs": [
    {
     "name": "stdout",
     "output_type": "stream",
     "text": [
      "[-0.0003354544851063234, -0.00021383962949617086]\n"
     ]
    },
    {
     "data": {
      "image/png": "[encoded data removed]",
      "text/plain": [
       "<Figure size 432x288 with 1 Axes>"
      ]
     },
     "metadata": {
      "needs_background": "light"
     },
     "output_type": "display_data"
    }
   ],
   "source": [
    "from scipy.stats import beta\n",
    "\n",
    "M = 1.3\n",
    "a = 2.1\n",
    "b = 1.7\n",
    "\n",
    "beta_pdf = lambda x, a, b: beta.pdf(x, a, b)\n",
    "lin = np.linspace(0, 1, 1000)\n",
    "data1 = [M * beta_pdf(l, a, b) for l in lin]\n",
    "plt.plot(lin, data1)\n",
    "\n",
    "f = lambda x: x*(1 - x)*np.exp(x) * integral_const\n",
    "data2 = [f(l) for l in lin]\n",
    "plt.plot(lin, data2)\n",
    "\n",
    "print([data1[i] - data2[i] for i in range(100) if data1[i] - data2[i] < 0])\n",
    "\n",
    "plt.show()\n",
    "\n"
   ]
  },
  {
   "cell_type": "code",
   "execution_count": 135,
   "id": "37730f18",
   "metadata": {},
   "outputs": [
    {
     "name": "stdout",
     "output_type": "stream",
     "text": [
      "772\n",
      "0.9899656156198079\n",
      "0.9899656156198079\n"
     ]
    }
   ],
   "source": [
    "n = 1000\n",
    "beta_samples = beta.rvs(a, b, size=n)\n",
    "unifs = [random.random() for _ in range(n)]\n",
    "draws = [z for i, z in enumerate(beta_samples) if unifs[i] <= (f(z))/(M*beta_pdf(z, a, b))]\n",
    "print(len(draws))\n",
    "print(max(draws))\n",
    "print(max(beta_samples))"
   ]
  },
  {
   "cell_type": "code",
   "execution_count": 139,
   "id": "86f3a572",
   "metadata": {},
   "outputs": [
    {
     "data": {
      "image/png": "[encoded data removed]",
      "text/plain": [
       "<Figure size 432x288 with 1 Axes>"
      ]
     },
     "metadata": {
      "needs_background": "light"
     },
     "output_type": "display_data"
    }
   ],
   "source": [
    "plt.hist(draws, bins=20, align=\"left\", density=True)\n",
    "plt.plot(lin, [f(l) for l in lin])\n",
    "plt.show()"
   ]
  },
  {
   "cell_type": "code",
   "execution_count": null,
   "id": "0c5c19c4",
   "metadata": {},
   "outputs": [],
   "source": []
  }
 ],
 "metadata": {
  "kernelspec": {
   "display_name": "Python 3 (ipykernel)",
   "language": "python",
   "name": "python3"
  },
  "language_info": {
   "codemirror_mode": {
    "name": "ipython",
    "version": 3
   },
   "file_extension": ".py",
   "mimetype": "text/x-python",
   "name": "python",
   "nbconvert_exporter": "python",
   "pygments_lexer": "ipython3",
   "version": "3.8.12"
  }
 },
 "nbformat": 4,
 "nbformat_minor": 5
}
