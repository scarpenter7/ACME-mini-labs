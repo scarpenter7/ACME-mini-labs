{
 "cells": [
  {
   "cell_type": "code",
   "execution_count": 1,
   "id": "chinese-forwarding",
   "metadata": {},
   "outputs": [],
   "source": [
    "import numpy as  np"
   ]
  },
  {
   "cell_type": "code",
   "execution_count": 8,
   "id": "smaller-israeli",
   "metadata": {},
   "outputs": [
    {
     "name": "stdout",
     "output_type": "stream",
     "text": [
      "[0.25       0.08333333 0.08333333 0.33333333 0.08333333 0.16666667]\n",
      "[0.27734375 0.14713542 0.14713542 0.26822917 0.09244792 0.06770833]\n",
      "[0.23076975 0.15384573 0.15384573 0.30769234 0.07692325 0.0769232 ]\n",
      "[0.23076923 0.15384615 0.15384615 0.30769231 0.07692308 0.07692308]\n",
      "[0.23076923 0.15384615 0.15384615 0.30769231 0.07692308 0.07692308]\n",
      "[0.23076923 0.15384615 0.15384615 0.30769231 0.07692308 0.07692308]\n"
     ]
    }
   ],
   "source": [
    "Q = np.array([[0, 1, 1/2, 0, 0, 0], \n",
    "              [0, 0, 0, 1/2, 0, 0],\n",
    "              [0, 0, 0, 1/2, 0, 0],\n",
    "              [1, 0, 0, 0, 0, 1],\n",
    "              [0, 0, 1/2, 0, 0, 0],\n",
    "              [0, 0, 0, 0, 1, 0]])\n",
    "for num in [10**i for i in range(6)]:\n",
    "    newQ = np.linalg.matrix_power(Q, num)\n",
    "    print(str(newQ @ np.ones(6)/ 6))"
   ]
  },
  {
   "cell_type": "code",
   "execution_count": null,
   "id": "premium-programmer",
   "metadata": {},
   "outputs": [],
   "source": []
  }
 ],
 "metadata": {
  "kernelspec": {
   "display_name": "Python 3",
   "language": "python",
   "name": "python3"
  },
  "language_info": {
   "codemirror_mode": {
    "name": "ipython",
    "version": 3
   },
   "file_extension": ".py",
   "mimetype": "text/x-python",
   "name": "python",
   "nbconvert_exporter": "python",
   "pygments_lexer": "ipython3",
   "version": "3.8.5"
  }
 },
 "nbformat": 4,
 "nbformat_minor": 5
}
